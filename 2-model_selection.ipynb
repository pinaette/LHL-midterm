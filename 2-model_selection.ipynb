{
 "cells": [
  {
   "cell_type": "code",
   "execution_count": 1,
   "id": "54632f7e-7cd2-4eb2-881a-f57fd10b2973",
   "metadata": {},
   "outputs": [],
   "source": [
    "# import packages\n",
    "import pandas as pd\n",
    "from sklearn import metrics as m\n",
    "from sklearn.model_selection import train_test_split"
   ]
  },
  {
   "cell_type": "code",
   "execution_count": 2,
   "id": "c60af2d5-d688-4b58-a53c-439ae540ef34",
   "metadata": {},
   "outputs": [
    {
     "name": "stderr",
     "output_type": "stream",
     "text": [
      "C:\\Users\\pinar\\anaconda3\\envs\\bootcamp\\lib\\site-packages\\xgboost\\compat.py:36: FutureWarning: pandas.Int64Index is deprecated and will be removed from pandas in a future version. Use pandas.Index with the appropriate dtype instead.\n",
      "  from pandas import MultiIndex, Int64Index\n"
     ]
    }
   ],
   "source": [
    "import xgboost as xgb\n",
    "from sklearn.svm import LinearSVR\n",
    "from sklearn.ensemble import RandomForestRegressor, ExtraTreesRegressor, IsolationForest\n",
    "from sklearn.ensemble import AdaBoostRegressor, GradientBoostingRegressor, HistGradientBoostingRegressor\n",
    "from sklearn.ensemble import BaggingRegressor"
   ]
  },
  {
   "cell_type": "code",
   "execution_count": null,
   "id": "ca6b3588-f329-4a98-b9c5-5c1f0e46f8e5",
   "metadata": {},
   "outputs": [],
   "source": []
  },
  {
   "cell_type": "code",
   "execution_count": 3,
   "id": "88be53ec-904d-40e4-a3a6-e303bcdfccb6",
   "metadata": {},
   "outputs": [
    {
     "data": {
      "text/html": [
       "<div>\n",
       "<style scoped>\n",
       "    .dataframe tbody tr th:only-of-type {\n",
       "        vertical-align: middle;\n",
       "    }\n",
       "\n",
       "    .dataframe tbody tr th {\n",
       "        vertical-align: top;\n",
       "    }\n",
       "\n",
       "    .dataframe thead th {\n",
       "        text-align: right;\n",
       "    }\n",
       "</style>\n",
       "<table border=\"1\" class=\"dataframe\">\n",
       "  <thead>\n",
       "    <tr style=\"text-align: right;\">\n",
       "      <th></th>\n",
       "      <th>arr_delay</th>\n",
       "      <th>crs_dep_time</th>\n",
       "      <th>crs_arr_time</th>\n",
       "      <th>crs_elapsed_time</th>\n",
       "      <th>distance</th>\n",
       "      <th>day_of_week</th>\n",
       "      <th>carrier_9E</th>\n",
       "      <th>carrier_9K</th>\n",
       "      <th>carrier_AA</th>\n",
       "      <th>carrier_AS</th>\n",
       "      <th>...</th>\n",
       "      <th>carrier_OH</th>\n",
       "      <th>carrier_OO</th>\n",
       "      <th>carrier_PT</th>\n",
       "      <th>carrier_QX</th>\n",
       "      <th>carrier_UA</th>\n",
       "      <th>carrier_VX</th>\n",
       "      <th>carrier_WN</th>\n",
       "      <th>carrier_YV</th>\n",
       "      <th>carrier_YX</th>\n",
       "      <th>carrier_ZW</th>\n",
       "    </tr>\n",
       "  </thead>\n",
       "  <tbody>\n",
       "    <tr>\n",
       "      <th>0</th>\n",
       "      <td>-6.0</td>\n",
       "      <td>-0.190085</td>\n",
       "      <td>0.128525</td>\n",
       "      <td>3.281189</td>\n",
       "      <td>2.902389</td>\n",
       "      <td>-1.47131</td>\n",
       "      <td>0.0</td>\n",
       "      <td>0.0</td>\n",
       "      <td>0.0</td>\n",
       "      <td>0.0</td>\n",
       "      <td>...</td>\n",
       "      <td>0.0</td>\n",
       "      <td>0.0</td>\n",
       "      <td>0.0</td>\n",
       "      <td>0.0</td>\n",
       "      <td>0.0</td>\n",
       "      <td>0.0</td>\n",
       "      <td>0.0</td>\n",
       "      <td>0.0</td>\n",
       "      <td>0.0</td>\n",
       "      <td>0.0</td>\n",
       "    </tr>\n",
       "    <tr>\n",
       "      <th>1</th>\n",
       "      <td>17.0</td>\n",
       "      <td>0.760826</td>\n",
       "      <td>-2.666616</td>\n",
       "      <td>2.380730</td>\n",
       "      <td>2.902389</td>\n",
       "      <td>-1.47131</td>\n",
       "      <td>0.0</td>\n",
       "      <td>0.0</td>\n",
       "      <td>0.0</td>\n",
       "      <td>0.0</td>\n",
       "      <td>...</td>\n",
       "      <td>0.0</td>\n",
       "      <td>0.0</td>\n",
       "      <td>0.0</td>\n",
       "      <td>0.0</td>\n",
       "      <td>0.0</td>\n",
       "      <td>0.0</td>\n",
       "      <td>0.0</td>\n",
       "      <td>0.0</td>\n",
       "      <td>0.0</td>\n",
       "      <td>0.0</td>\n",
       "    </tr>\n",
       "    <tr>\n",
       "      <th>2</th>\n",
       "      <td>44.0</td>\n",
       "      <td>0.362057</td>\n",
       "      <td>1.429042</td>\n",
       "      <td>2.449996</td>\n",
       "      <td>3.138995</td>\n",
       "      <td>-1.47131</td>\n",
       "      <td>0.0</td>\n",
       "      <td>0.0</td>\n",
       "      <td>0.0</td>\n",
       "      <td>0.0</td>\n",
       "      <td>...</td>\n",
       "      <td>0.0</td>\n",
       "      <td>0.0</td>\n",
       "      <td>0.0</td>\n",
       "      <td>0.0</td>\n",
       "      <td>0.0</td>\n",
       "      <td>0.0</td>\n",
       "      <td>0.0</td>\n",
       "      <td>0.0</td>\n",
       "      <td>0.0</td>\n",
       "      <td>0.0</td>\n",
       "    </tr>\n",
       "  </tbody>\n",
       "</table>\n",
       "<p>3 rows × 34 columns</p>\n",
       "</div>"
      ],
      "text/plain": [
       "   arr_delay  crs_dep_time  crs_arr_time  crs_elapsed_time  distance  \\\n",
       "0       -6.0     -0.190085      0.128525          3.281189  2.902389   \n",
       "1       17.0      0.760826     -2.666616          2.380730  2.902389   \n",
       "2       44.0      0.362057      1.429042          2.449996  3.138995   \n",
       "\n",
       "   day_of_week  carrier_9E  carrier_9K  carrier_AA  carrier_AS  ...  \\\n",
       "0     -1.47131         0.0         0.0         0.0         0.0  ...   \n",
       "1     -1.47131         0.0         0.0         0.0         0.0  ...   \n",
       "2     -1.47131         0.0         0.0         0.0         0.0  ...   \n",
       "\n",
       "   carrier_OH  carrier_OO  carrier_PT  carrier_QX  carrier_UA  carrier_VX  \\\n",
       "0         0.0         0.0         0.0         0.0         0.0         0.0   \n",
       "1         0.0         0.0         0.0         0.0         0.0         0.0   \n",
       "2         0.0         0.0         0.0         0.0         0.0         0.0   \n",
       "\n",
       "   carrier_WN  carrier_YV  carrier_YX  carrier_ZW  \n",
       "0         0.0         0.0         0.0         0.0  \n",
       "1         0.0         0.0         0.0         0.0  \n",
       "2         0.0         0.0         0.0         0.0  \n",
       "\n",
       "[3 rows x 34 columns]"
      ]
     },
     "execution_count": 3,
     "metadata": {},
     "output_type": "execute_result"
    }
   ],
   "source": [
    "# add data\n",
    "df = pd.read_csv('full_scaled_data.csv', index_col = 0)\n",
    "df.head(3)"
   ]
  },
  {
   "cell_type": "code",
   "execution_count": 4,
   "id": "6607683d-405d-4514-9900-ed239e8b95a6",
   "metadata": {},
   "outputs": [],
   "source": [
    "# split training and target\n",
    "X = df.drop('arr_delay', axis = 1)\n",
    "y = df['arr_delay']"
   ]
  },
  {
   "cell_type": "code",
   "execution_count": 23,
   "id": "2b45b6a1-3f83-4631-b55f-f80bfbd792e1",
   "metadata": {},
   "outputs": [],
   "source": [
    "# replace NaN value with 0 (NaN means no arrival delay)\n",
    "y = y.fillna(0)"
   ]
  },
  {
   "cell_type": "code",
   "execution_count": 26,
   "id": "ce5e6d50-a24a-49ae-ae5d-9cffea0add9e",
   "metadata": {},
   "outputs": [],
   "source": [
    "# split data into training and test files\n",
    "X_train, X_test, y_train, y_test = train_test_split(X, y, test_size = 0.3)"
   ]
  },
  {
   "cell_type": "code",
   "execution_count": null,
   "id": "53551033-303b-433e-bfd8-e400799c59e4",
   "metadata": {},
   "outputs": [],
   "source": []
  },
  {
   "cell_type": "markdown",
   "id": "e2cd6cd8-a759-4078-b405-abbe7d9f4707",
   "metadata": {},
   "source": [
    "## model testing"
   ]
  },
  {
   "cell_type": "code",
   "execution_count": 27,
   "id": "c5607241-d54b-48a9-98de-0eaecc3ce2d6",
   "metadata": {},
   "outputs": [],
   "source": [
    "# test LinearSVR with default values\n",
    "svr = LinearSVR()"
   ]
  },
  {
   "cell_type": "code",
   "execution_count": 28,
   "id": "86003483-c8c2-4d57-a9a2-e8f549b30183",
   "metadata": {},
   "outputs": [
    {
     "data": {
      "text/plain": [
       "LinearSVR()"
      ]
     },
     "execution_count": 28,
     "metadata": {},
     "output_type": "execute_result"
    }
   ],
   "source": [
    "svr.fit(X_train, y_train)"
   ]
  },
  {
   "cell_type": "code",
   "execution_count": 29,
   "id": "9fdc2f11-a355-42cd-890a-271d4727b432",
   "metadata": {},
   "outputs": [],
   "source": [
    "y_pred_svr = svr.predict(X_test)"
   ]
  },
  {
   "cell_type": "code",
   "execution_count": 30,
   "id": "603e0c6c-8229-44a6-afeb-943d35f370be",
   "metadata": {},
   "outputs": [
    {
     "data": {
      "text/plain": [
       "2402.5668964926836"
      ]
     },
     "execution_count": 30,
     "metadata": {},
     "output_type": "execute_result"
    }
   ],
   "source": [
    "m.mean_squared_error(y_test, y_pred_svr)"
   ]
  },
  {
   "cell_type": "code",
   "execution_count": null,
   "id": "9c892beb-bfac-4e8d-8fa6-fcce1d66ddbf",
   "metadata": {},
   "outputs": [],
   "source": []
  },
  {
   "cell_type": "code",
   "execution_count": 32,
   "id": "8f6afb1a-8982-4c27-9714-7a7b09b1cb56",
   "metadata": {},
   "outputs": [],
   "source": [
    "# test AdaBoostRegressor with default values\n",
    "ada = AdaBoostRegressor()"
   ]
  },
  {
   "cell_type": "code",
   "execution_count": 33,
   "id": "5dc0ca12-0b7f-4b2e-8d10-c4a1fdc4114d",
   "metadata": {},
   "outputs": [
    {
     "data": {
      "text/plain": [
       "AdaBoostRegressor()"
      ]
     },
     "execution_count": 33,
     "metadata": {},
     "output_type": "execute_result"
    }
   ],
   "source": [
    "ada.fit(X_train, y_train)"
   ]
  },
  {
   "cell_type": "code",
   "execution_count": 34,
   "id": "24989369-44bb-4e78-bd45-2940e7a7bf62",
   "metadata": {},
   "outputs": [],
   "source": [
    "y_pred_ada = ada.predict(X_test)"
   ]
  },
  {
   "cell_type": "code",
   "execution_count": 35,
   "id": "b277945d-fd4b-483f-a998-610c68c3e9ae",
   "metadata": {},
   "outputs": [
    {
     "data": {
      "text/plain": [
       "92577.00331245457"
      ]
     },
     "execution_count": 35,
     "metadata": {},
     "output_type": "execute_result"
    }
   ],
   "source": [
    "m.mean_squared_error(y_test, y_pred_ada)"
   ]
  },
  {
   "cell_type": "code",
   "execution_count": null,
   "id": "6d08e065-f5d4-46d5-97f0-ee5e40a2be09",
   "metadata": {},
   "outputs": [],
   "source": []
  },
  {
   "cell_type": "code",
   "execution_count": 36,
   "id": "be36277d-9603-47ec-a073-cc43b10fe936",
   "metadata": {},
   "outputs": [],
   "source": [
    "# test GradientBoostingRegressor with default values\n",
    "grad = GradientBoostingRegressor()"
   ]
  },
  {
   "cell_type": "code",
   "execution_count": 37,
   "id": "c2ec09b1-f08c-45e0-9aa5-6525b819dd04",
   "metadata": {},
   "outputs": [
    {
     "data": {
      "text/plain": [
       "GradientBoostingRegressor()"
      ]
     },
     "execution_count": 37,
     "metadata": {},
     "output_type": "execute_result"
    }
   ],
   "source": [
    "grad.fit(X_train, y_train)"
   ]
  },
  {
   "cell_type": "code",
   "execution_count": 38,
   "id": "1c6cc097-749c-404d-8057-56a96e51cf00",
   "metadata": {},
   "outputs": [],
   "source": [
    "y_pred_grad = grad.predict(X_test)"
   ]
  },
  {
   "cell_type": "code",
   "execution_count": 39,
   "id": "ba113e0f-1636-44a5-b676-ec3fa17f771e",
   "metadata": {},
   "outputs": [
    {
     "data": {
      "text/plain": [
       "2270.6214976350693"
      ]
     },
     "execution_count": 39,
     "metadata": {},
     "output_type": "execute_result"
    }
   ],
   "source": [
    "m.mean_squared_error(y_test, y_pred_grad)"
   ]
  },
  {
   "cell_type": "code",
   "execution_count": null,
   "id": "bafafbaa-e031-41c7-9f3a-73b757c069da",
   "metadata": {},
   "outputs": [],
   "source": []
  },
  {
   "cell_type": "code",
   "execution_count": 40,
   "id": "ee293ff0-d1d0-4a93-9d35-da2f1520439b",
   "metadata": {},
   "outputs": [],
   "source": [
    "# test HistGradientBoostingRegressor with default values\n",
    "hist = HistGradientBoostingRegressor()"
   ]
  },
  {
   "cell_type": "code",
   "execution_count": 41,
   "id": "80577fb5-6aed-471f-96bb-fa1b756bb76b",
   "metadata": {},
   "outputs": [
    {
     "data": {
      "text/plain": [
       "HistGradientBoostingRegressor()"
      ]
     },
     "execution_count": 41,
     "metadata": {},
     "output_type": "execute_result"
    }
   ],
   "source": [
    "hist.fit(X_train, y_train)"
   ]
  },
  {
   "cell_type": "code",
   "execution_count": 42,
   "id": "8fcd4922-efe6-4c0c-bc1e-e4c3f4975287",
   "metadata": {},
   "outputs": [],
   "source": [
    "y_pred_hist = hist.predict(X_test)"
   ]
  },
  {
   "cell_type": "code",
   "execution_count": 43,
   "id": "a4c195b7-e204-4098-8c8d-dee2574976ea",
   "metadata": {},
   "outputs": [
    {
     "data": {
      "text/plain": [
       "2259.206374858313"
      ]
     },
     "execution_count": 43,
     "metadata": {},
     "output_type": "execute_result"
    }
   ],
   "source": [
    "m.mean_squared_error(y_test, y_pred_hist)"
   ]
  },
  {
   "cell_type": "code",
   "execution_count": null,
   "id": "51a98b95-27a3-4eee-9eb5-13d46bb2e2d2",
   "metadata": {},
   "outputs": [],
   "source": []
  },
  {
   "cell_type": "code",
   "execution_count": 44,
   "id": "08e14d9e-b17f-4d3f-a2d2-d8f119e009df",
   "metadata": {},
   "outputs": [],
   "source": [
    "# test BaggingRegressor with default values\n",
    "bag = BaggingRegressor()"
   ]
  },
  {
   "cell_type": "code",
   "execution_count": 45,
   "id": "fb47137e-b122-4a4a-aa44-f4206e13653c",
   "metadata": {},
   "outputs": [
    {
     "data": {
      "text/plain": [
       "BaggingRegressor()"
      ]
     },
     "execution_count": 45,
     "metadata": {},
     "output_type": "execute_result"
    }
   ],
   "source": [
    "bag.fit(X_train, y_train)"
   ]
  },
  {
   "cell_type": "code",
   "execution_count": 46,
   "id": "8e30a27d-8a52-4997-b86e-b988f1f81166",
   "metadata": {},
   "outputs": [],
   "source": [
    "y_pred_bag = bag.predict(X_test)"
   ]
  },
  {
   "cell_type": "code",
   "execution_count": 47,
   "id": "7cba61be-86fc-4199-80fc-719572b0c277",
   "metadata": {},
   "outputs": [
    {
     "data": {
      "text/plain": [
       "2719.797988565089"
      ]
     },
     "execution_count": 47,
     "metadata": {},
     "output_type": "execute_result"
    }
   ],
   "source": [
    "m.mean_squared_error(y_test, y_pred_bag)"
   ]
  },
  {
   "cell_type": "code",
   "execution_count": null,
   "id": "25993ef7-e46f-426c-8513-88823fcb29c1",
   "metadata": {},
   "outputs": [],
   "source": []
  },
  {
   "cell_type": "code",
   "execution_count": 50,
   "id": "3525495b-e9f3-419c-893c-f88e82073f3d",
   "metadata": {},
   "outputs": [],
   "source": [
    "# test IsolationForest with default values\n",
    "iso = IsolationForest()"
   ]
  },
  {
   "cell_type": "code",
   "execution_count": 51,
   "id": "0fab1e8e-8902-4c9a-b2a9-2a46936810ab",
   "metadata": {},
   "outputs": [
    {
     "data": {
      "text/plain": [
       "IsolationForest()"
      ]
     },
     "execution_count": 51,
     "metadata": {},
     "output_type": "execute_result"
    }
   ],
   "source": [
    "iso.fit(X_train, y_train)"
   ]
  },
  {
   "cell_type": "code",
   "execution_count": 52,
   "id": "ce25ef65-b7ae-4517-ab93-829621dc42ae",
   "metadata": {},
   "outputs": [],
   "source": [
    "y_pred_iso = iso.predict(X_test)"
   ]
  },
  {
   "cell_type": "code",
   "execution_count": 53,
   "id": "e7c59c0d-6f2d-40ac-bcca-ec30ddb4fdce",
   "metadata": {},
   "outputs": [
    {
     "data": {
      "text/plain": [
       "2309.0614013058766"
      ]
     },
     "execution_count": 53,
     "metadata": {},
     "output_type": "execute_result"
    }
   ],
   "source": [
    "m.mean_squared_error(y_test, y_pred_iso)"
   ]
  },
  {
   "cell_type": "code",
   "execution_count": null,
   "id": "d8cc00f7-6ae4-473b-acb2-1d3108db148b",
   "metadata": {},
   "outputs": [],
   "source": []
  },
  {
   "cell_type": "code",
   "execution_count": 62,
   "id": "02661c86-8c34-4486-9b68-cd92282c6444",
   "metadata": {},
   "outputs": [],
   "source": [
    "# test XGBRegressor with default values\n",
    "xgr = xgb.XGBRegressor()"
   ]
  },
  {
   "cell_type": "code",
   "execution_count": 63,
   "id": "e83bb687-fca1-4c97-a96b-7d040aedf549",
   "metadata": {},
   "outputs": [
    {
     "data": {
      "text/plain": [
       "XGBRegressor(base_score=0.5, booster='gbtree', colsample_bylevel=1,\n",
       "             colsample_bynode=1, colsample_bytree=1, enable_categorical=False,\n",
       "             gamma=0, gpu_id=-1, importance_type=None,\n",
       "             interaction_constraints='', learning_rate=0.300000012,\n",
       "             max_delta_step=0, max_depth=6, min_child_weight=1, missing=nan,\n",
       "             monotone_constraints='()', n_estimators=100, n_jobs=2,\n",
       "             num_parallel_tree=1, predictor='auto', random_state=0, reg_alpha=0,\n",
       "             reg_lambda=1, scale_pos_weight=1, subsample=1, tree_method='exact',\n",
       "             validate_parameters=1, verbosity=None)"
      ]
     },
     "execution_count": 63,
     "metadata": {},
     "output_type": "execute_result"
    }
   ],
   "source": [
    "xgr.fit(X_train, y_train)"
   ]
  },
  {
   "cell_type": "code",
   "execution_count": 64,
   "id": "e0ff72ad-dced-41d4-bf65-34816ebc6e80",
   "metadata": {},
   "outputs": [],
   "source": [
    "y_pred_xgr = xgr.predict(X_test)"
   ]
  },
  {
   "cell_type": "code",
   "execution_count": 65,
   "id": "40cb7568-4994-4072-ad08-a4c39be357b5",
   "metadata": {},
   "outputs": [
    {
     "data": {
      "text/plain": [
       "2464.5472423371043"
      ]
     },
     "execution_count": 65,
     "metadata": {},
     "output_type": "execute_result"
    }
   ],
   "source": [
    "m.mean_squared_error(y_test, y_pred_xgr)"
   ]
  },
  {
   "cell_type": "code",
   "execution_count": null,
   "id": "0d2ac5d5-8e5a-48de-9a3b-3b107c453a6c",
   "metadata": {},
   "outputs": [],
   "source": []
  },
  {
   "cell_type": "code",
   "execution_count": 66,
   "id": "7264e872-ea12-479f-9e63-2d63b2365673",
   "metadata": {},
   "outputs": [],
   "source": [
    "# test XGB RF Regressor with default values\n",
    "xgf = xgb.XGBRFRegressor()"
   ]
  },
  {
   "cell_type": "code",
   "execution_count": 67,
   "id": "d9239316-4926-4247-ad70-6ae5a6a2b59b",
   "metadata": {},
   "outputs": [
    {
     "name": "stderr",
     "output_type": "stream",
     "text": [
      "C:\\Users\\pinar\\anaconda3\\envs\\bootcamp\\lib\\site-packages\\xgboost\\data.py:250: FutureWarning: pandas.Int64Index is deprecated and will be removed from pandas in a future version. Use pandas.Index with the appropriate dtype instead.\n",
      "  elif isinstance(data.columns, (pd.Int64Index, pd.RangeIndex)):\n"
     ]
    },
    {
     "data": {
      "text/plain": [
       "XGBRFRegressor(base_score=0.5, booster='gbtree', colsample_bylevel=1,\n",
       "               colsample_bytree=1, enable_categorical=False, gamma=0, gpu_id=-1,\n",
       "               importance_type=None, interaction_constraints='',\n",
       "               max_delta_step=0, max_depth=6, min_child_weight=1, missing=nan,\n",
       "               monotone_constraints='()', n_estimators=100, n_jobs=2,\n",
       "               num_parallel_tree=100, objective='reg:squarederror',\n",
       "               predictor='auto', random_state=0, reg_alpha=0,\n",
       "               scale_pos_weight=1, tree_method='exact', validate_parameters=1,\n",
       "               verbosity=None)"
      ]
     },
     "execution_count": 67,
     "metadata": {},
     "output_type": "execute_result"
    }
   ],
   "source": [
    "xgf.fit(X_train, y_train)"
   ]
  },
  {
   "cell_type": "code",
   "execution_count": 68,
   "id": "0e9c4620-f2df-44a0-84d1-5045b6176c98",
   "metadata": {},
   "outputs": [],
   "source": [
    "y_pred_xgf = xgf.predict(X_test)"
   ]
  },
  {
   "cell_type": "code",
   "execution_count": 69,
   "id": "596eb060-44d5-4e87-bbc3-482af1a7fbb5",
   "metadata": {},
   "outputs": [
    {
     "data": {
      "text/plain": [
       "2291.2185461632534"
      ]
     },
     "execution_count": 69,
     "metadata": {},
     "output_type": "execute_result"
    }
   ],
   "source": [
    "m.mean_squared_error(y_test, y_pred_xgf)"
   ]
  },
  {
   "cell_type": "code",
   "execution_count": null,
   "id": "fee2be74-094d-4d4e-99a3-1fa4ef76f34a",
   "metadata": {},
   "outputs": [],
   "source": []
  },
  {
   "cell_type": "code",
   "execution_count": 70,
   "id": "0dd2997f-f813-4373-9d05-1be7959a74b3",
   "metadata": {},
   "outputs": [],
   "source": [
    "# test RandomForestRegressor with default values\n",
    "rnd = RandomForestRegressor(max_depth = 6)"
   ]
  },
  {
   "cell_type": "code",
   "execution_count": 71,
   "id": "5800e247-7549-463c-9f72-ee261083cb58",
   "metadata": {},
   "outputs": [
    {
     "data": {
      "text/plain": [
       "RandomForestRegressor(max_depth=6)"
      ]
     },
     "execution_count": 71,
     "metadata": {},
     "output_type": "execute_result"
    }
   ],
   "source": [
    "rnd.fit(X_train, y_train)"
   ]
  },
  {
   "cell_type": "code",
   "execution_count": 72,
   "id": "dcbb37e1-0bd0-472f-92ad-70dee80fc073",
   "metadata": {},
   "outputs": [],
   "source": [
    "y_pred_rnd = rnd.predict(X_test)"
   ]
  },
  {
   "cell_type": "code",
   "execution_count": 73,
   "id": "3f3dd600-20b1-42a9-a411-92e60ab87aaa",
   "metadata": {},
   "outputs": [
    {
     "data": {
      "text/plain": [
       "2287.0376456597637"
      ]
     },
     "execution_count": 73,
     "metadata": {},
     "output_type": "execute_result"
    }
   ],
   "source": [
    "m.mean_squared_error(y_test, y_pred_rnd)"
   ]
  },
  {
   "cell_type": "code",
   "execution_count": null,
   "id": "572d3c5b-ce35-40e7-961a-b5a97175fcab",
   "metadata": {},
   "outputs": [],
   "source": []
  },
  {
   "cell_type": "code",
   "execution_count": 74,
   "id": "53410aec-bd6d-4a52-805c-6e5bbdb90a9d",
   "metadata": {},
   "outputs": [],
   "source": [
    "# test ExtraTreesRegressor with default values\n",
    "xtr = ExtraTreesRegressor(max_depth = 6)"
   ]
  },
  {
   "cell_type": "code",
   "execution_count": 75,
   "id": "43a82735-a624-47ce-90e3-09cb896a24a6",
   "metadata": {},
   "outputs": [
    {
     "data": {
      "text/plain": [
       "ExtraTreesRegressor(max_depth=6)"
      ]
     },
     "execution_count": 75,
     "metadata": {},
     "output_type": "execute_result"
    }
   ],
   "source": [
    "xtr.fit(X_train, y_train)"
   ]
  },
  {
   "cell_type": "code",
   "execution_count": 76,
   "id": "20c539f8-fb81-449a-9715-ccfce7e75e92",
   "metadata": {},
   "outputs": [],
   "source": [
    "y_pred_xtr = xtr.predict(X_test)"
   ]
  },
  {
   "cell_type": "code",
   "execution_count": 77,
   "id": "4f7f9f0b-6a41-4ce6-987b-d3c45828aa73",
   "metadata": {},
   "outputs": [
    {
     "data": {
      "text/plain": [
       "2262.067272679809"
      ]
     },
     "execution_count": 77,
     "metadata": {},
     "output_type": "execute_result"
    }
   ],
   "source": [
    "m.mean_squared_error(y_test, y_pred_xtr)"
   ]
  },
  {
   "cell_type": "code",
   "execution_count": null,
   "id": "38951ce4-802e-4a5b-8cb0-888121636418",
   "metadata": {},
   "outputs": [],
   "source": []
  },
  {
   "cell_type": "code",
   "execution_count": 79,
   "id": "7afec8e5-c80a-461b-9524-30335c2649d6",
   "metadata": {},
   "outputs": [],
   "source": [
    "# create results dictionary for MSE scores\n",
    "results = {}\n",
    "results['svr'] = 2402.5668964926836\n",
    "results['adaboost'] = 92577.00331245457\n",
    "results['gradientboost'] = 2270.6214976350693\n",
    "results['hist g boost'] = 2259.206374858313\n",
    "results['bagging'] = 2719.797988565089\n",
    "results['isolation forest'] = 2309.0614013058766\n",
    "results['xgb regressor'] = 2464.5472423371043\n",
    "results['xgb rf regressor'] = 2291.2185461632534\n",
    "results['random forest'] = 2287.0376456597637\n",
    "results['extra trees'] = 2262.067272679809"
   ]
  },
  {
   "cell_type": "code",
   "execution_count": null,
   "id": "544bf0c0-43d3-4c42-b8ba-7f06bd9cc0c6",
   "metadata": {},
   "outputs": [],
   "source": []
  },
  {
   "cell_type": "code",
   "execution_count": 94,
   "id": "1770eee1-50e8-44d6-acd5-e75b3771f866",
   "metadata": {},
   "outputs": [],
   "source": [
    "# retry BaggingRegressor but PROPERLY\n",
    "rebag = BaggingRegressor(LinearSVR())"
   ]
  },
  {
   "cell_type": "code",
   "execution_count": 95,
   "id": "c0cce43b-aa3b-4473-a714-8cb00a4ff4a2",
   "metadata": {},
   "outputs": [
    {
     "data": {
      "text/plain": [
       "BaggingRegressor(base_estimator=LinearSVR())"
      ]
     },
     "execution_count": 95,
     "metadata": {},
     "output_type": "execute_result"
    }
   ],
   "source": [
    "rebag.fit(X_train, y_train)"
   ]
  },
  {
   "cell_type": "code",
   "execution_count": 96,
   "id": "e6c6ca7a-f1a6-48e2-add9-bf9eaf031396",
   "metadata": {},
   "outputs": [],
   "source": [
    "y_pred_rebag = rebag.predict(X_test)"
   ]
  },
  {
   "cell_type": "code",
   "execution_count": 97,
   "id": "1f34aa7d-f824-4145-ab59-e8214c3e801b",
   "metadata": {},
   "outputs": [
    {
     "data": {
      "text/plain": [
       "2402.9677356422662"
      ]
     },
     "execution_count": 97,
     "metadata": {},
     "output_type": "execute_result"
    }
   ],
   "source": [
    "m.mean_squared_error(y_test, y_pred_rebag)"
   ]
  },
  {
   "cell_type": "code",
   "execution_count": null,
   "id": "b02ddb1d-074f-4228-8ea0-a5aaf94d812b",
   "metadata": {},
   "outputs": [],
   "source": []
  },
  {
   "cell_type": "code",
   "execution_count": 98,
   "id": "10bf2fbf-0ce7-48da-adb2-8a395276af12",
   "metadata": {},
   "outputs": [],
   "source": [
    "results['bagged svr'] = 2402.9677356422662"
   ]
  },
  {
   "cell_type": "code",
   "execution_count": 99,
   "id": "e0590093-a835-474c-b972-ed9ec6681b82",
   "metadata": {},
   "outputs": [
    {
     "data": {
      "text/plain": [
       "{'svr': 2402.5668964926836,\n",
       " 'adaboost': 92577.00331245457,\n",
       " 'gradientboost': 2270.6214976350693,\n",
       " 'hist g boost': 2259.206374858313,\n",
       " 'bagging': 2719.797988565089,\n",
       " 'isolation forest': 2309.0614013058766,\n",
       " 'xgb regressor': 2464.5472423371043,\n",
       " 'xgb rf regressor': 2291.2185461632534,\n",
       " 'random forest': 2287.0376456597637,\n",
       " 'extra trees': 2262.067272679809,\n",
       " 'bagged svr': 2402.9677356422662}"
      ]
     },
     "execution_count": 99,
     "metadata": {},
     "output_type": "execute_result"
    }
   ],
   "source": [
    "results"
   ]
  },
  {
   "cell_type": "code",
   "execution_count": null,
   "id": "c3acb711-6715-4042-b63e-5ee1785efc08",
   "metadata": {},
   "outputs": [],
   "source": []
  },
  {
   "cell_type": "code",
   "execution_count": 2,
   "id": "f82836d9-4dbe-4eb8-ae40-7b42f76e4f89",
   "metadata": {},
   "outputs": [
    {
     "data": {
      "text/plain": [
       "{'adaboost': 92577.00331245457,\n",
       " 'isolation forest': 2309.0614013058766,\n",
       " 'extra trees': 2262.067272679809,\n",
       " 'hist g boost': 2259.206374858313}"
      ]
     },
     "execution_count": 2,
     "metadata": {},
     "output_type": "execute_result"
    }
   ],
   "source": [
    "# manual sorting by scores, ascending order of accuracy and picking models\n",
    "{\n",
    " 'adaboost': 92577.00331245457,\n",
    " # 'bagging': 2719.797988565089,\n",
    " # 'xgb regressor': 2464.5472423371043,\n",
    " # 'bagged svr': 2402.9677356422662,\n",
    " # 'svr': 2402.5668964926836,\n",
    " 'isolation forest': 2309.0614013058766,\n",
    " # 'xgb rf regressor': 2291.2185461632534,\n",
    " # 'random forest': 2287.0376456597637,\n",
    " # 'gradientboost': 2270.6214976350693,\n",
    " 'extra trees': 2262.067272679809,\n",
    " 'hist g boost': 2259.206374858313\n",
    "}"
   ]
  },
  {
   "cell_type": "code",
   "execution_count": null,
   "id": "c613c46f-e986-4064-9645-a21577b58ed4",
   "metadata": {},
   "outputs": [],
   "source": []
  },
  {
   "cell_type": "markdown",
   "id": "e2d7089b-210f-4178-9a12-2912eb78980d",
   "metadata": {},
   "source": [
    "### r-squared scores"
   ]
  },
  {
   "cell_type": "code",
   "execution_count": 100,
   "id": "40fea921-c6d0-40ff-86d3-fd52d68b3ec4",
   "metadata": {},
   "outputs": [
    {
     "data": {
      "text/plain": [
       "-0.051949347128470214"
      ]
     },
     "execution_count": 100,
     "metadata": {},
     "output_type": "execute_result"
    }
   ],
   "source": [
    "# LinearSVR with default values\n",
    "m.r2_score(y_test, y_pred_svr)"
   ]
  },
  {
   "cell_type": "code",
   "execution_count": 101,
   "id": "c3142de9-c575-4dc7-8d7c-b761ffbe6be4",
   "metadata": {},
   "outputs": [
    {
     "data": {
      "text/plain": [
       "-39.534279539026926"
      ]
     },
     "execution_count": 101,
     "metadata": {},
     "output_type": "execute_result"
    }
   ],
   "source": [
    "# AdaBoostRegressor with default values\n",
    "m.r2_score(y_test, y_pred_ada)"
   ]
  },
  {
   "cell_type": "code",
   "execution_count": 102,
   "id": "37d8601b-e40f-4725-9ca4-48e410310354",
   "metadata": {},
   "outputs": [
    {
     "data": {
      "text/plain": [
       "0.0058221456809479655"
      ]
     },
     "execution_count": 102,
     "metadata": {},
     "output_type": "execute_result"
    }
   ],
   "source": [
    "# GradientBoostingRegressor with default values\n",
    "m.r2_score(y_test, y_pred_grad)"
   ]
  },
  {
   "cell_type": "code",
   "execution_count": 103,
   "id": "453327d7-dbbf-4b16-bb6c-97812e00b86f",
   "metadata": {},
   "outputs": [
    {
     "data": {
      "text/plain": [
       "0.010820187970604689"
      ]
     },
     "execution_count": 103,
     "metadata": {},
     "output_type": "execute_result"
    }
   ],
   "source": [
    "# HistGradientBoostingRegressor with default values\n",
    "m.r2_score(y_test, y_pred_hist)"
   ]
  },
  {
   "cell_type": "code",
   "execution_count": 104,
   "id": "d1ea556f-2c11-4249-b9e4-ee7cb6f30beb",
   "metadata": {},
   "outputs": [
    {
     "data": {
      "text/plain": [
       "-0.19084705719081074"
      ]
     },
     "execution_count": 104,
     "metadata": {},
     "output_type": "execute_result"
    }
   ],
   "source": [
    "# BaggingRegressor with default values\n",
    "m.r2_score(y_test, y_pred_bag)"
   ]
  },
  {
   "cell_type": "code",
   "execution_count": 105,
   "id": "569bdcce-8d0f-4904-a5cb-41c349ea42e7",
   "metadata": {},
   "outputs": [
    {
     "data": {
      "text/plain": [
       "-0.011008533052375702"
      ]
     },
     "execution_count": 105,
     "metadata": {},
     "output_type": "execute_result"
    }
   ],
   "source": [
    "# IsolationForest with default values\n",
    "m.r2_score(y_test, y_pred_iso)"
   ]
  },
  {
   "cell_type": "code",
   "execution_count": 106,
   "id": "833ad31b-3fcf-4df4-acc7-dbc260d3b710",
   "metadata": {},
   "outputs": [
    {
     "data": {
      "text/plain": [
       "-0.07908706572478308"
      ]
     },
     "execution_count": 106,
     "metadata": {},
     "output_type": "execute_result"
    }
   ],
   "source": [
    "# XGBRegressor with default values\n",
    "m.r2_score(y_test, y_pred_xgr)"
   ]
  },
  {
   "cell_type": "code",
   "execution_count": 107,
   "id": "157b0ece-0d53-46a0-8e3f-11aca2f6c7b3",
   "metadata": {},
   "outputs": [
    {
     "data": {
      "text/plain": [
       "-0.00319614712231453"
      ]
     },
     "execution_count": 107,
     "metadata": {},
     "output_type": "execute_result"
    }
   ],
   "source": [
    "# XGB RF Regressor with default values\n",
    "m.r2_score(y_test, y_pred_xgf)"
   ]
  },
  {
   "cell_type": "code",
   "execution_count": 108,
   "id": "8f100fb5-df89-4431-9a54-a1297f32ed6a",
   "metadata": {},
   "outputs": [
    {
     "data": {
      "text/plain": [
       "-0.0013655651886852471"
      ]
     },
     "execution_count": 108,
     "metadata": {},
     "output_type": "execute_result"
    }
   ],
   "source": [
    "# RandomForestRegressor with default values\n",
    "m.r2_score(y_test, y_pred_rnd)"
   ]
  },
  {
   "cell_type": "code",
   "execution_count": 109,
   "id": "c8b25847-2a68-40dc-95ac-7e32b49df143",
   "metadata": {},
   "outputs": [
    {
     "data": {
      "text/plain": [
       "0.00956756120715574"
      ]
     },
     "execution_count": 109,
     "metadata": {},
     "output_type": "execute_result"
    }
   ],
   "source": [
    "# ExtraTreesRegressor with default values\n",
    "m.r2_score(y_test, y_pred_xtr)"
   ]
  },
  {
   "cell_type": "code",
   "execution_count": 110,
   "id": "1cb63d23-37a0-411f-9e4a-d18ac6b8a0cb",
   "metadata": {},
   "outputs": [
    {
     "data": {
      "text/plain": [
       "-0.05212485211953721"
      ]
     },
     "execution_count": 110,
     "metadata": {},
     "output_type": "execute_result"
    }
   ],
   "source": [
    "# BaggingRegressor using LinearSVR with default values\n",
    "m.r2_score(y_test, y_pred_rebag)"
   ]
  },
  {
   "cell_type": "code",
   "execution_count": null,
   "id": "4d6385ea-a356-48b4-abda-c018e2d0d7a4",
   "metadata": {},
   "outputs": [],
   "source": []
  },
  {
   "cell_type": "markdown",
   "id": "0e897a66-7fd2-481a-a82e-769a51362494",
   "metadata": {},
   "source": [
    "### adjusted r-squared scores"
   ]
  },
  {
   "cell_type": "code",
   "execution_count": 111,
   "id": "7436b220-5143-475b-9265-23a2ec390903",
   "metadata": {},
   "outputs": [
    {
     "data": {
      "text/plain": [
       "((53091, 33), (53091,))"
      ]
     },
     "execution_count": 111,
     "metadata": {},
     "output_type": "execute_result"
    }
   ],
   "source": [
    "X.shape, y.shape"
   ]
  },
  {
   "cell_type": "code",
   "execution_count": null,
   "id": "91ef68ba-f98b-4cd2-9297-1401f77c1861",
   "metadata": {},
   "outputs": [],
   "source": []
  },
  {
   "cell_type": "code",
   "execution_count": 112,
   "id": "b0ff3a4d-033a-456b-a6fd-5b62ab533564",
   "metadata": {},
   "outputs": [
    {
     "data": {
      "text/plain": [
       "-0.052884312477799345"
      ]
     },
     "execution_count": 112,
     "metadata": {},
     "output_type": "execute_result"
    }
   ],
   "source": [
    "# LinearSVR with default values\n",
    "1 - (1-m.r2_score(y_test, y_pred_svr)) * (len(y_train)-1) / (len(y_train)-33-1)"
   ]
  },
  {
   "cell_type": "code",
   "execution_count": 113,
   "id": "f28d4a71-459e-4e2f-8d9b-3f6df41d65e3",
   "metadata": {},
   "outputs": [
    {
     "data": {
      "text/plain": [
       "-39.57030612807559"
      ]
     },
     "execution_count": 113,
     "metadata": {},
     "output_type": "execute_result"
    }
   ],
   "source": [
    "# AdaBoostRegressor with default values\n",
    "1 - (1-m.r2_score(y_test, y_pred_ada)) * (len(y_train)-1) / (len(y_train)-33-1)"
   ]
  },
  {
   "cell_type": "code",
   "execution_count": 114,
   "id": "ce430692-d263-481b-ae91-249a299b036b",
   "metadata": {},
   "outputs": [
    {
     "data": {
      "text/plain": [
       "0.004938527237345114"
      ]
     },
     "execution_count": 114,
     "metadata": {},
     "output_type": "execute_result"
    }
   ],
   "source": [
    "# GradientBoostingRegressor with default values\n",
    "1 - (1-m.r2_score(y_test, y_pred_grad)) * (len(y_train)-1) / (len(y_train)-33-1)"
   ]
  },
  {
   "cell_type": "code",
   "execution_count": 115,
   "id": "3259dd6b-d0f0-4571-92d8-244f94d6cb6e",
   "metadata": {},
   "outputs": [
    {
     "data": {
      "text/plain": [
       "0.009941011752635731"
      ]
     },
     "execution_count": 115,
     "metadata": {},
     "output_type": "execute_result"
    }
   ],
   "source": [
    "# HistGradientBoostingRegressor with default values\n",
    "1 - (1-m.r2_score(y_test, y_pred_hist)) * (len(y_train)-1) / (len(y_train)-33-1)"
   ]
  },
  {
   "cell_type": "code",
   "execution_count": 116,
   "id": "4ce57f38-3862-4449-a1ad-993569b650e3",
   "metadata": {},
   "outputs": [
    {
     "data": {
      "text/plain": [
       "-0.1919054738701529"
      ]
     },
     "execution_count": 116,
     "metadata": {},
     "output_type": "execute_result"
    }
   ],
   "source": [
    "# BaggingRegressor with default values\n",
    "1 - (1-m.r2_score(y_test, y_pred_bag)) * (len(y_train)-1) / (len(y_train)-33-1)"
   ]
  },
  {
   "cell_type": "code",
   "execution_count": 117,
   "id": "8fd7acb9-5386-4a4d-a925-35387351b371",
   "metadata": {},
   "outputs": [
    {
     "data": {
      "text/plain": [
       "-0.011907110487553885"
      ]
     },
     "execution_count": 117,
     "metadata": {},
     "output_type": "execute_result"
    }
   ],
   "source": [
    "# IsolationForest with default values\n",
    "1 - (1-m.r2_score(y_test, y_pred_iso)) * (len(y_train)-1) / (len(y_train)-33-1)"
   ]
  },
  {
   "cell_type": "code",
   "execution_count": 118,
   "id": "00566845-3d29-4b08-b6b0-728432ce9a8e",
   "metadata": {},
   "outputs": [
    {
     "data": {
      "text/plain": [
       "-0.08004615089187395"
      ]
     },
     "execution_count": 118,
     "metadata": {},
     "output_type": "execute_result"
    }
   ],
   "source": [
    "# XGBRegressor with default values\n",
    "1 - (1-m.r2_score(y_test, y_pred_xgr)) * (len(y_train)-1) / (len(y_train)-33-1)"
   ]
  },
  {
   "cell_type": "code",
   "execution_count": 119,
   "id": "b91f8618-deb0-43ed-a5f7-1716b830ec03",
   "metadata": {},
   "outputs": [
    {
     "data": {
      "text/plain": [
       "-0.004087780962575005"
      ]
     },
     "execution_count": 119,
     "metadata": {},
     "output_type": "execute_result"
    }
   ],
   "source": [
    "# XGB RF Regressor with default values\n",
    "1 - (1-m.r2_score(y_test, y_pred_xgf)) * (len(y_train)-1) / (len(y_train)-33-1)"
   ]
  },
  {
   "cell_type": "code",
   "execution_count": 120,
   "id": "2ed0d9b0-5d6f-4775-a553-e779ed5ff817",
   "metadata": {},
   "outputs": [
    {
     "data": {
      "text/plain": [
       "-0.002255572020305463"
      ]
     },
     "execution_count": 120,
     "metadata": {},
     "output_type": "execute_result"
    }
   ],
   "source": [
    "# RandomForestRegressor with default values\n",
    "1 - (1-m.r2_score(y_test, y_pred_rnd)) * (len(y_train)-1) / (len(y_train)-33-1)"
   ]
  },
  {
   "cell_type": "code",
   "execution_count": 121,
   "id": "1c84d8f1-a072-4b53-bc4a-406c44c7b6d4",
   "metadata": {},
   "outputs": [
    {
     "data": {
      "text/plain": [
       "0.008687271663129104"
      ]
     },
     "execution_count": 121,
     "metadata": {},
     "output_type": "execute_result"
    }
   ],
   "source": [
    "# ExtraTreesRegressor with default values\n",
    "1 - (1-m.r2_score(y_test, y_pred_xtr)) * (len(y_train)-1) / (len(y_train)-33-1)"
   ]
  },
  {
   "cell_type": "code",
   "execution_count": 122,
   "id": "ae98d4fc-101e-4ebe-bda1-c85b42b2e924",
   "metadata": {},
   "outputs": [
    {
     "data": {
      "text/plain": [
       "-0.053059973456496046"
      ]
     },
     "execution_count": 122,
     "metadata": {},
     "output_type": "execute_result"
    }
   ],
   "source": [
    "# BaggingRegressor using LinearSVR with default values\n",
    "1 - (1-m.r2_score(y_test, y_pred_rebag)) * (len(y_train)-1) / (len(y_train)-33-1)"
   ]
  },
  {
   "cell_type": "code",
   "execution_count": null,
   "id": "6a6780cc-93e1-46da-8e28-057acf3a7531",
   "metadata": {},
   "outputs": [],
   "source": []
  }
 ],
 "metadata": {
  "kernelspec": {
   "display_name": "bootcamp",
   "language": "python",
   "name": "bootcamp"
  },
  "language_info": {
   "codemirror_mode": {
    "name": "ipython",
    "version": 3
   },
   "file_extension": ".py",
   "mimetype": "text/x-python",
   "name": "python",
   "nbconvert_exporter": "python",
   "pygments_lexer": "ipython3",
   "version": "3.9.7"
  }
 },
 "nbformat": 4,
 "nbformat_minor": 5
}
