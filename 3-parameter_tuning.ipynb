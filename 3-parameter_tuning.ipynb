{
 "cells": [
  {
   "cell_type": "code",
   "execution_count": 13,
   "id": "621ed48b-bf5a-4e8e-8b69-06066a2f42b5",
   "metadata": {},
   "outputs": [],
   "source": [
    "# import packages\n",
    "import pandas as pd\n",
    "from sklearn.model_selection import GridSearchCV\n",
    "from sklearn.ensemble import ExtraTreesRegressor, HistGradientBoostingRegressor"
   ]
  },
  {
   "cell_type": "code",
   "execution_count": null,
   "id": "13d64aa2-f867-47fa-9159-fe98ca419879",
   "metadata": {},
   "outputs": [],
   "source": []
  },
  {
   "cell_type": "code",
   "execution_count": 15,
   "id": "3990ad6f-e075-4d22-a9da-4f60d7e4d5f9",
   "metadata": {},
   "outputs": [
    {
     "data": {
      "text/html": [
       "<div>\n",
       "<style scoped>\n",
       "    .dataframe tbody tr th:only-of-type {\n",
       "        vertical-align: middle;\n",
       "    }\n",
       "\n",
       "    .dataframe tbody tr th {\n",
       "        vertical-align: top;\n",
       "    }\n",
       "\n",
       "    .dataframe thead th {\n",
       "        text-align: right;\n",
       "    }\n",
       "</style>\n",
       "<table border=\"1\" class=\"dataframe\">\n",
       "  <thead>\n",
       "    <tr style=\"text-align: right;\">\n",
       "      <th></th>\n",
       "      <th>arr_delay</th>\n",
       "      <th>crs_dep_time</th>\n",
       "      <th>crs_arr_time</th>\n",
       "      <th>crs_elapsed_time</th>\n",
       "      <th>distance</th>\n",
       "      <th>day_of_week</th>\n",
       "      <th>carrier_9E</th>\n",
       "      <th>carrier_9K</th>\n",
       "      <th>carrier_AA</th>\n",
       "      <th>carrier_AS</th>\n",
       "      <th>...</th>\n",
       "      <th>carrier_OH</th>\n",
       "      <th>carrier_OO</th>\n",
       "      <th>carrier_PT</th>\n",
       "      <th>carrier_QX</th>\n",
       "      <th>carrier_UA</th>\n",
       "      <th>carrier_VX</th>\n",
       "      <th>carrier_WN</th>\n",
       "      <th>carrier_YV</th>\n",
       "      <th>carrier_YX</th>\n",
       "      <th>carrier_ZW</th>\n",
       "    </tr>\n",
       "  </thead>\n",
       "  <tbody>\n",
       "    <tr>\n",
       "      <th>0</th>\n",
       "      <td>-6.0</td>\n",
       "      <td>-0.190085</td>\n",
       "      <td>0.128525</td>\n",
       "      <td>3.281189</td>\n",
       "      <td>2.902389</td>\n",
       "      <td>-1.47131</td>\n",
       "      <td>0.0</td>\n",
       "      <td>0.0</td>\n",
       "      <td>0.0</td>\n",
       "      <td>0.0</td>\n",
       "      <td>...</td>\n",
       "      <td>0.0</td>\n",
       "      <td>0.0</td>\n",
       "      <td>0.0</td>\n",
       "      <td>0.0</td>\n",
       "      <td>0.0</td>\n",
       "      <td>0.0</td>\n",
       "      <td>0.0</td>\n",
       "      <td>0.0</td>\n",
       "      <td>0.0</td>\n",
       "      <td>0.0</td>\n",
       "    </tr>\n",
       "    <tr>\n",
       "      <th>1</th>\n",
       "      <td>17.0</td>\n",
       "      <td>0.760826</td>\n",
       "      <td>-2.666616</td>\n",
       "      <td>2.380730</td>\n",
       "      <td>2.902389</td>\n",
       "      <td>-1.47131</td>\n",
       "      <td>0.0</td>\n",
       "      <td>0.0</td>\n",
       "      <td>0.0</td>\n",
       "      <td>0.0</td>\n",
       "      <td>...</td>\n",
       "      <td>0.0</td>\n",
       "      <td>0.0</td>\n",
       "      <td>0.0</td>\n",
       "      <td>0.0</td>\n",
       "      <td>0.0</td>\n",
       "      <td>0.0</td>\n",
       "      <td>0.0</td>\n",
       "      <td>0.0</td>\n",
       "      <td>0.0</td>\n",
       "      <td>0.0</td>\n",
       "    </tr>\n",
       "    <tr>\n",
       "      <th>2</th>\n",
       "      <td>44.0</td>\n",
       "      <td>0.362057</td>\n",
       "      <td>1.429042</td>\n",
       "      <td>2.449996</td>\n",
       "      <td>3.138995</td>\n",
       "      <td>-1.47131</td>\n",
       "      <td>0.0</td>\n",
       "      <td>0.0</td>\n",
       "      <td>0.0</td>\n",
       "      <td>0.0</td>\n",
       "      <td>...</td>\n",
       "      <td>0.0</td>\n",
       "      <td>0.0</td>\n",
       "      <td>0.0</td>\n",
       "      <td>0.0</td>\n",
       "      <td>0.0</td>\n",
       "      <td>0.0</td>\n",
       "      <td>0.0</td>\n",
       "      <td>0.0</td>\n",
       "      <td>0.0</td>\n",
       "      <td>0.0</td>\n",
       "    </tr>\n",
       "  </tbody>\n",
       "</table>\n",
       "<p>3 rows × 34 columns</p>\n",
       "</div>"
      ],
      "text/plain": [
       "   arr_delay  crs_dep_time  crs_arr_time  crs_elapsed_time  distance  \\\n",
       "0       -6.0     -0.190085      0.128525          3.281189  2.902389   \n",
       "1       17.0      0.760826     -2.666616          2.380730  2.902389   \n",
       "2       44.0      0.362057      1.429042          2.449996  3.138995   \n",
       "\n",
       "   day_of_week  carrier_9E  carrier_9K  carrier_AA  carrier_AS  ...  \\\n",
       "0     -1.47131         0.0         0.0         0.0         0.0  ...   \n",
       "1     -1.47131         0.0         0.0         0.0         0.0  ...   \n",
       "2     -1.47131         0.0         0.0         0.0         0.0  ...   \n",
       "\n",
       "   carrier_OH  carrier_OO  carrier_PT  carrier_QX  carrier_UA  carrier_VX  \\\n",
       "0         0.0         0.0         0.0         0.0         0.0         0.0   \n",
       "1         0.0         0.0         0.0         0.0         0.0         0.0   \n",
       "2         0.0         0.0         0.0         0.0         0.0         0.0   \n",
       "\n",
       "   carrier_WN  carrier_YV  carrier_YX  carrier_ZW  \n",
       "0         0.0         0.0         0.0         0.0  \n",
       "1         0.0         0.0         0.0         0.0  \n",
       "2         0.0         0.0         0.0         0.0  \n",
       "\n",
       "[3 rows x 34 columns]"
      ]
     },
     "execution_count": 15,
     "metadata": {},
     "output_type": "execute_result"
    }
   ],
   "source": [
    "# add data\n",
    "df = pd.read_csv('full_scaled_data.csv', index_col = 0)\n",
    "df.head(3)"
   ]
  },
  {
   "cell_type": "code",
   "execution_count": 16,
   "id": "306bb0de-d559-4b25-a61f-76a4ad7aaf61",
   "metadata": {},
   "outputs": [
    {
     "data": {
      "text/plain": [
       "((53091, 33), (53091,))"
      ]
     },
     "execution_count": 16,
     "metadata": {},
     "output_type": "execute_result"
    }
   ],
   "source": [
    "# split data into target and training\n",
    "X = df.drop('arr_delay', axis = 1)\n",
    "y = df['arr_delay']\n",
    "X.shape, y.shape"
   ]
  },
  {
   "cell_type": "code",
   "execution_count": 17,
   "id": "c8335669-902a-4dcc-8457-b9628f5e8d42",
   "metadata": {},
   "outputs": [
    {
     "data": {
      "text/plain": [
       "0"
      ]
     },
     "execution_count": 17,
     "metadata": {},
     "output_type": "execute_result"
    }
   ],
   "source": [
    "# replace nan values in target with 0 (i.e. no delay)\n",
    "y = y.fillna(0)\n",
    "y.isnull().sum()"
   ]
  },
  {
   "cell_type": "code",
   "execution_count": null,
   "id": "f6abcecc-9f4c-4af6-b2dd-cc8f4cf237c0",
   "metadata": {},
   "outputs": [],
   "source": []
  },
  {
   "cell_type": "markdown",
   "id": "bed16d35-3d54-4f29-ab17-ea007ebbd0e3",
   "metadata": {},
   "source": [
    "### parameter tuning for ExtraTreesRegressor using GridSearchCV"
   ]
  },
  {
   "cell_type": "code",
   "execution_count": 18,
   "id": "c570fd67-0f36-4cf0-b5a3-8cf8d84637b8",
   "metadata": {},
   "outputs": [],
   "source": [
    "xtr_params = {\n",
    "    'n_estimators': [50, 100, 200],\n",
    "    'max_depth': [3, 6, 9]    \n",
    "}\n",
    "xtr_grid = GridSearchCV(ExtraTreesRegressor(), xtr_params)"
   ]
  },
  {
   "cell_type": "code",
   "execution_count": 19,
   "id": "4bf20bae-31bd-4303-87f4-2702f7d4084c",
   "metadata": {},
   "outputs": [
    {
     "data": {
      "text/plain": [
       "GridSearchCV(estimator=ExtraTreesRegressor(),\n",
       "             param_grid={'max_depth': [3, 6, 9],\n",
       "                         'n_estimators': [50, 100, 200]})"
      ]
     },
     "execution_count": 19,
     "metadata": {},
     "output_type": "execute_result"
    }
   ],
   "source": [
    "xtr_grid.fit(X, y)"
   ]
  },
  {
   "cell_type": "code",
   "execution_count": 20,
   "id": "20dd04ae-5074-4be2-8155-3c91d50e37a6",
   "metadata": {},
   "outputs": [
    {
     "data": {
      "text/plain": [
       "ExtraTreesRegressor(max_depth=6, n_estimators=200)"
      ]
     },
     "execution_count": 20,
     "metadata": {},
     "output_type": "execute_result"
    }
   ],
   "source": [
    "xtr_grid.best_estimator_"
   ]
  },
  {
   "cell_type": "code",
   "execution_count": 21,
   "id": "5b17a113-eb54-4da2-ba84-af347a71c11e",
   "metadata": {},
   "outputs": [],
   "source": [
    "xtr_params = {\n",
    "    'n_estimators': [100, 200, 300],\n",
    "    'max_depth': [3, 6, 7]    \n",
    "}\n",
    "xtr_grid = GridSearchCV(ExtraTreesRegressor(), xtr_params)"
   ]
  },
  {
   "cell_type": "code",
   "execution_count": 22,
   "id": "662e2429-54e9-4968-b5c4-a7a39838daee",
   "metadata": {},
   "outputs": [
    {
     "data": {
      "text/plain": [
       "GridSearchCV(estimator=ExtraTreesRegressor(),\n",
       "             param_grid={'max_depth': [3, 6, 7],\n",
       "                         'n_estimators': [100, 200, 300]})"
      ]
     },
     "execution_count": 22,
     "metadata": {},
     "output_type": "execute_result"
    }
   ],
   "source": [
    "xtr_grid.fit(X, y)"
   ]
  },
  {
   "cell_type": "code",
   "execution_count": 23,
   "id": "52a80178-7b7c-4aa1-8c6e-4ebbb4f7327e",
   "metadata": {},
   "outputs": [
    {
     "data": {
      "text/plain": [
       "ExtraTreesRegressor(max_depth=6, n_estimators=200)"
      ]
     },
     "execution_count": 23,
     "metadata": {},
     "output_type": "execute_result"
    }
   ],
   "source": [
    "xtr_grid.best_estimator_"
   ]
  },
  {
   "cell_type": "code",
   "execution_count": 24,
   "id": "709f7bbc-c0cb-4ddf-b77c-5408cda74fe4",
   "metadata": {},
   "outputs": [],
   "source": [
    "xtr_params = {\n",
    "    'n_estimators': [150, 200, 250],\n",
    "    'max_depth': [3, 6, 7]\n",
    "}\n",
    "xtr_grid = GridSearchCV(ExtraTreesRegressor(), xtr_params)"
   ]
  },
  {
   "cell_type": "code",
   "execution_count": 25,
   "id": "4ac22019-197e-4039-8ee5-9378fb72cea7",
   "metadata": {},
   "outputs": [
    {
     "data": {
      "text/plain": [
       "GridSearchCV(estimator=ExtraTreesRegressor(),\n",
       "             param_grid={'max_depth': [3, 6, 7],\n",
       "                         'n_estimators': [150, 200, 250]})"
      ]
     },
     "execution_count": 25,
     "metadata": {},
     "output_type": "execute_result"
    }
   ],
   "source": [
    "xtr_grid.fit(X, y)"
   ]
  },
  {
   "cell_type": "code",
   "execution_count": 26,
   "id": "af9f17dd-0e03-4b5c-94e0-d2924b55e4a4",
   "metadata": {},
   "outputs": [
    {
     "data": {
      "text/plain": [
       "ExtraTreesRegressor(max_depth=6, n_estimators=200)"
      ]
     },
     "execution_count": 26,
     "metadata": {},
     "output_type": "execute_result"
    }
   ],
   "source": [
    "xtr_grid.best_estimator_"
   ]
  },
  {
   "cell_type": "code",
   "execution_count": 27,
   "id": "f5b7cf62-b54f-43de-aa0b-9ccc918c3a75",
   "metadata": {},
   "outputs": [],
   "source": [
    "xtr_params = {\n",
    "    'n_estimators': [180, 200, 220],\n",
    "    'max_depth': [4, 6]\n",
    "}\n",
    "xtr_grid = GridSearchCV(ExtraTreesRegressor(), xtr_params)"
   ]
  },
  {
   "cell_type": "code",
   "execution_count": 28,
   "id": "ef02ecaa-beda-497f-922e-cb12fa0233e9",
   "metadata": {},
   "outputs": [
    {
     "data": {
      "text/plain": [
       "GridSearchCV(estimator=ExtraTreesRegressor(),\n",
       "             param_grid={'max_depth': [4, 6], 'n_estimators': [180, 200, 220]})"
      ]
     },
     "execution_count": 28,
     "metadata": {},
     "output_type": "execute_result"
    }
   ],
   "source": [
    "xtr_grid.fit(X, y)"
   ]
  },
  {
   "cell_type": "code",
   "execution_count": 29,
   "id": "04ea2de8-b403-4921-93ea-f9bc6b57f907",
   "metadata": {},
   "outputs": [
    {
     "data": {
      "text/plain": [
       "ExtraTreesRegressor(max_depth=6, n_estimators=200)"
      ]
     },
     "execution_count": 29,
     "metadata": {},
     "output_type": "execute_result"
    }
   ],
   "source": [
    "xtr_grid.best_estimator_"
   ]
  },
  {
   "cell_type": "code",
   "execution_count": 32,
   "id": "7ef9fa52-f57b-421d-ae8d-93fca1a8897c",
   "metadata": {},
   "outputs": [],
   "source": [
    "xtr_params = {\n",
    "    'n_estimators': [190, 200, 210],\n",
    "    'max_depth': [5, 6]\n",
    "}\n",
    "xtr_grid = GridSearchCV(ExtraTreesRegressor(), xtr_params)"
   ]
  },
  {
   "cell_type": "code",
   "execution_count": 33,
   "id": "9f6d40b3-eeab-4dac-81d2-fd6dabfa5980",
   "metadata": {},
   "outputs": [
    {
     "data": {
      "text/plain": [
       "GridSearchCV(estimator=ExtraTreesRegressor(),\n",
       "             param_grid={'max_depth': [5, 6], 'n_estimators': [190, 200, 210]})"
      ]
     },
     "execution_count": 33,
     "metadata": {},
     "output_type": "execute_result"
    }
   ],
   "source": [
    "xtr_grid.fit(X, y)"
   ]
  },
  {
   "cell_type": "code",
   "execution_count": 34,
   "id": "e1471d47-5c8a-4340-aef2-ec3686532973",
   "metadata": {},
   "outputs": [
    {
     "data": {
      "text/plain": [
       "ExtraTreesRegressor(max_depth=5, n_estimators=200)"
      ]
     },
     "execution_count": 34,
     "metadata": {},
     "output_type": "execute_result"
    }
   ],
   "source": [
    "xtr_grid.best_estimator_"
   ]
  },
  {
   "cell_type": "code",
   "execution_count": 35,
   "id": "cb984224-d353-452b-a41a-32d6e4b0b966",
   "metadata": {},
   "outputs": [],
   "source": [
    "xtr_params = {\n",
    "    'n_estimators': [195, 200, 205],\n",
    "    'max_depth': [5, 6]\n",
    "}\n",
    "xtr_grid = GridSearchCV(ExtraTreesRegressor(), xtr_params)"
   ]
  },
  {
   "cell_type": "code",
   "execution_count": 36,
   "id": "4630f688-6379-4435-8874-fb4ff2932a4b",
   "metadata": {},
   "outputs": [
    {
     "data": {
      "text/plain": [
       "GridSearchCV(estimator=ExtraTreesRegressor(),\n",
       "             param_grid={'max_depth': [5, 6], 'n_estimators': [195, 200, 205]})"
      ]
     },
     "execution_count": 36,
     "metadata": {},
     "output_type": "execute_result"
    }
   ],
   "source": [
    "xtr_grid.fit(X, y)"
   ]
  },
  {
   "cell_type": "code",
   "execution_count": 37,
   "id": "188937e9-ff65-49c9-850e-05f508568a04",
   "metadata": {},
   "outputs": [
    {
     "data": {
      "text/plain": [
       "ExtraTreesRegressor(max_depth=5, n_estimators=200)"
      ]
     },
     "execution_count": 37,
     "metadata": {},
     "output_type": "execute_result"
    }
   ],
   "source": [
    "xtr_grid.best_estimator_"
   ]
  },
  {
   "cell_type": "code",
   "execution_count": 38,
   "id": "269d6d7a-4732-4c7b-93fe-45af2e79d2a9",
   "metadata": {},
   "outputs": [],
   "source": [
    "xtr_params = {\n",
    "    'n_estimators': [198, 200, 202]\n",
    "}\n",
    "xtr_grid = GridSearchCV(ExtraTreesRegressor(max_depth = 5), xtr_params)"
   ]
  },
  {
   "cell_type": "code",
   "execution_count": 39,
   "id": "cd2d2529-8608-4671-bd05-6837cc893baf",
   "metadata": {},
   "outputs": [
    {
     "data": {
      "text/plain": [
       "GridSearchCV(estimator=ExtraTreesRegressor(max_depth=5),\n",
       "             param_grid={'n_estimators': [198, 200, 202]})"
      ]
     },
     "execution_count": 39,
     "metadata": {},
     "output_type": "execute_result"
    }
   ],
   "source": [
    "xtr_grid.fit(X, y)"
   ]
  },
  {
   "cell_type": "code",
   "execution_count": 40,
   "id": "6d45a319-afa0-4475-8b40-d16fe436fdab",
   "metadata": {},
   "outputs": [
    {
     "data": {
      "text/plain": [
       "ExtraTreesRegressor(max_depth=5, n_estimators=198)"
      ]
     },
     "execution_count": 40,
     "metadata": {},
     "output_type": "execute_result"
    }
   ],
   "source": [
    "xtr_grid.best_estimator_"
   ]
  },
  {
   "cell_type": "code",
   "execution_count": 41,
   "id": "d0d6d1a3-d181-476e-8b5b-e71a2a1ec217",
   "metadata": {},
   "outputs": [],
   "source": [
    "xtr_params = {\n",
    "    'n_estimators': [196, 197, 198, 199]\n",
    "}\n",
    "xtr_grid = GridSearchCV(ExtraTreesRegressor(max_depth = 5), xtr_params)"
   ]
  },
  {
   "cell_type": "code",
   "execution_count": 42,
   "id": "8b545392-5c3e-47e0-8f7a-74da434076b1",
   "metadata": {},
   "outputs": [
    {
     "data": {
      "text/plain": [
       "GridSearchCV(estimator=ExtraTreesRegressor(max_depth=5),\n",
       "             param_grid={'n_estimators': [196, 197, 198, 199]})"
      ]
     },
     "execution_count": 42,
     "metadata": {},
     "output_type": "execute_result"
    }
   ],
   "source": [
    "xtr_grid.fit(X, y)"
   ]
  },
  {
   "cell_type": "code",
   "execution_count": 43,
   "id": "b5601e8a-7637-4990-954c-26291af2f3e0",
   "metadata": {},
   "outputs": [
    {
     "data": {
      "text/plain": [
       "ExtraTreesRegressor(max_depth=5, n_estimators=197)"
      ]
     },
     "execution_count": 43,
     "metadata": {},
     "output_type": "execute_result"
    }
   ],
   "source": [
    "xtr_grid.best_estimator_"
   ]
  },
  {
   "cell_type": "code",
   "execution_count": 44,
   "id": "02de37ce-2a34-49a0-9a80-fa0001b31348",
   "metadata": {},
   "outputs": [],
   "source": [
    "xtr_params = {\n",
    "    'max_depth': [5, 6]\n",
    "}\n",
    "xtr_grid = GridSearchCV(ExtraTreesRegressor(n_estimators = 197), xtr_params)"
   ]
  },
  {
   "cell_type": "code",
   "execution_count": 45,
   "id": "40fe9975-39ab-4b0e-9427-f448b8415d39",
   "metadata": {},
   "outputs": [
    {
     "data": {
      "text/plain": [
       "GridSearchCV(estimator=ExtraTreesRegressor(n_estimators=197),\n",
       "             param_grid={'max_depth': [5, 6]})"
      ]
     },
     "execution_count": 45,
     "metadata": {},
     "output_type": "execute_result"
    }
   ],
   "source": [
    "xtr_grid.fit(X, y)"
   ]
  },
  {
   "cell_type": "code",
   "execution_count": 46,
   "id": "36c30299-1bb9-4d64-98b9-dc2c7657b017",
   "metadata": {},
   "outputs": [
    {
     "data": {
      "text/plain": [
       "ExtraTreesRegressor(max_depth=6, n_estimators=197)"
      ]
     },
     "execution_count": 46,
     "metadata": {},
     "output_type": "execute_result"
    }
   ],
   "source": [
    "xtr_grid.best_estimator_"
   ]
  },
  {
   "cell_type": "code",
   "execution_count": 48,
   "id": "b30f6142-57a7-4c8d-8e5d-e5031771fb06",
   "metadata": {},
   "outputs": [],
   "source": [
    "xtr_params = {\n",
    "    'n_estimators': [196, 197, 198],\n",
    "    'max_depth': [4, 5, 6]\n",
    "}\n",
    "xtr_grid = GridSearchCV(ExtraTreesRegressor(), xtr_params)"
   ]
  },
  {
   "cell_type": "code",
   "execution_count": 49,
   "id": "27681af1-5826-47ac-88bf-f4a1293d348c",
   "metadata": {},
   "outputs": [
    {
     "data": {
      "text/plain": [
       "GridSearchCV(estimator=ExtraTreesRegressor(),\n",
       "             param_grid={'max_depth': [4, 5, 6],\n",
       "                         'n_estimators': [196, 197, 198]})"
      ]
     },
     "execution_count": 49,
     "metadata": {},
     "output_type": "execute_result"
    }
   ],
   "source": [
    "xtr_grid.fit(X, y)"
   ]
  },
  {
   "cell_type": "code",
   "execution_count": 50,
   "id": "66559fa5-9506-43b9-8642-b08e13ff6999",
   "metadata": {},
   "outputs": [
    {
     "data": {
      "text/plain": [
       "ExtraTreesRegressor(max_depth=6, n_estimators=197)"
      ]
     },
     "execution_count": 50,
     "metadata": {},
     "output_type": "execute_result"
    }
   ],
   "source": [
    "xtr_grid.best_estimator_"
   ]
  },
  {
   "cell_type": "code",
   "execution_count": 51,
   "id": "1dbb8360-b142-4e4a-ab03-3f90b087d571",
   "metadata": {},
   "outputs": [],
   "source": [
    "xtr_params = {\n",
    "    'n_estimators': [196, 197, 198],\n",
    "    'max_depth': [5, 6, 7]\n",
    "}\n",
    "xtr_grid = GridSearchCV(ExtraTreesRegressor(), xtr_params)"
   ]
  },
  {
   "cell_type": "code",
   "execution_count": 52,
   "id": "e2bf0c30-6479-4725-b0f1-4bbc54190322",
   "metadata": {},
   "outputs": [
    {
     "data": {
      "text/plain": [
       "GridSearchCV(estimator=ExtraTreesRegressor(),\n",
       "             param_grid={'max_depth': [5, 6, 7],\n",
       "                         'n_estimators': [196, 197, 198]})"
      ]
     },
     "execution_count": 52,
     "metadata": {},
     "output_type": "execute_result"
    }
   ],
   "source": [
    "xtr_grid.fit(X, y)"
   ]
  },
  {
   "cell_type": "code",
   "execution_count": 53,
   "id": "72d42a3e-103d-45ca-affe-a14d1c433f6f",
   "metadata": {},
   "outputs": [
    {
     "data": {
      "text/plain": [
       "ExtraTreesRegressor(max_depth=5, n_estimators=197)"
      ]
     },
     "execution_count": 53,
     "metadata": {},
     "output_type": "execute_result"
    }
   ],
   "source": [
    "xtr_grid.best_estimator_"
   ]
  },
  {
   "cell_type": "code",
   "execution_count": 54,
   "id": "939abede-366f-43c4-bfe4-a58a5c24292f",
   "metadata": {},
   "outputs": [
    {
     "data": {
      "text/plain": [
       "0.009653875023213021"
      ]
     },
     "execution_count": 54,
     "metadata": {},
     "output_type": "execute_result"
    }
   ],
   "source": [
    "xtr_grid.best_score_"
   ]
  },
  {
   "cell_type": "code",
   "execution_count": 55,
   "id": "b1b548eb-0ad2-4d58-9c8c-b85a8e11e19c",
   "metadata": {},
   "outputs": [],
   "source": [
    "xtr_params = {\n",
    "    'max_depth': [5, 6],\n",
    "    'warm_start': [True, False]\n",
    "}\n",
    "xtr_grid = GridSearchCV(ExtraTreesRegressor(n_estimators = 197), xtr_params)"
   ]
  },
  {
   "cell_type": "code",
   "execution_count": 56,
   "id": "2cecfb70-535c-4045-bf6f-dc0c09b26e93",
   "metadata": {},
   "outputs": [
    {
     "data": {
      "text/plain": [
       "GridSearchCV(estimator=ExtraTreesRegressor(n_estimators=197),\n",
       "             param_grid={'max_depth': [5, 6], 'warm_start': [True, False]})"
      ]
     },
     "execution_count": 56,
     "metadata": {},
     "output_type": "execute_result"
    }
   ],
   "source": [
    "xtr_grid.fit(X, y)"
   ]
  },
  {
   "cell_type": "code",
   "execution_count": 57,
   "id": "280222e8-ab3c-41d8-839e-83aaf20f73ff",
   "metadata": {},
   "outputs": [
    {
     "data": {
      "text/plain": [
       "ExtraTreesRegressor(max_depth=5, n_estimators=197)"
      ]
     },
     "execution_count": 57,
     "metadata": {},
     "output_type": "execute_result"
    }
   ],
   "source": [
    "xtr_grid.best_estimator_"
   ]
  },
  {
   "cell_type": "code",
   "execution_count": 58,
   "id": "5b9e613a-e76d-479f-8323-8a2c32d67a35",
   "metadata": {},
   "outputs": [
    {
     "data": {
      "text/plain": [
       "{'max_depth': 5, 'warm_start': False}"
      ]
     },
     "execution_count": 58,
     "metadata": {},
     "output_type": "execute_result"
    }
   ],
   "source": [
    "xtr_grid.best_params_"
   ]
  },
  {
   "cell_type": "code",
   "execution_count": 59,
   "id": "1222d5e9-3647-4b4c-8f3a-1f54f5a9b892",
   "metadata": {},
   "outputs": [
    {
     "data": {
      "text/plain": [
       "0.009603297246596676"
      ]
     },
     "execution_count": 59,
     "metadata": {},
     "output_type": "execute_result"
    }
   ],
   "source": [
    "xtr_grid.best_score_"
   ]
  },
  {
   "cell_type": "code",
   "execution_count": null,
   "id": "d13db3d4-56eb-4ccb-b728-b0d7a68032fb",
   "metadata": {},
   "outputs": [],
   "source": []
  },
  {
   "cell_type": "markdown",
   "id": "8dc9256c-adc9-4275-ad6b-19db519a1d2b",
   "metadata": {},
   "source": [
    "### parameter tuning for HistGradientBoostingRegressor using GridSearchCV"
   ]
  },
  {
   "cell_type": "code",
   "execution_count": 60,
   "id": "cb4f3b6b-84c1-40ed-96c9-d5fcd8a34cb6",
   "metadata": {},
   "outputs": [],
   "source": [
    "hist_params = {\n",
    "    'learning_rate': [0.01, 0.1, 0.3],\n",
    "    'max_depth': [3, 6, 9],\n",
    "    'l2_regularization': [0, 0.1]\n",
    "}\n",
    "hist_grid = GridSearchCV(HistGradientBoostingRegressor(), hist_params)"
   ]
  },
  {
   "cell_type": "code",
   "execution_count": 61,
   "id": "86dfd9f7-34d9-4f79-bb0f-e4d66abb66e7",
   "metadata": {},
   "outputs": [
    {
     "data": {
      "text/plain": [
       "GridSearchCV(estimator=HistGradientBoostingRegressor(),\n",
       "             param_grid={'l2_regularization': [0, 0.1],\n",
       "                         'learning_rate': [0.01, 0.1, 0.3],\n",
       "                         'max_depth': [3, 6, 9]})"
      ]
     },
     "execution_count": 61,
     "metadata": {},
     "output_type": "execute_result"
    }
   ],
   "source": [
    "hist_grid.fit(X, y)"
   ]
  },
  {
   "cell_type": "code",
   "execution_count": 62,
   "id": "6a16f0d8-4fa1-46de-8111-2e56102dff3f",
   "metadata": {},
   "outputs": [
    {
     "data": {
      "text/plain": [
       "HistGradientBoostingRegressor(l2_regularization=0, max_depth=3)"
      ]
     },
     "execution_count": 62,
     "metadata": {},
     "output_type": "execute_result"
    }
   ],
   "source": [
    "hist_grid.best_estimator_"
   ]
  },
  {
   "cell_type": "code",
   "execution_count": 63,
   "id": "5ea75414-6131-48ae-bc24-b4216ac9dc1e",
   "metadata": {},
   "outputs": [
    {
     "data": {
      "text/plain": [
       "{'l2_regularization': 0, 'learning_rate': 0.1, 'max_depth': 3}"
      ]
     },
     "execution_count": 63,
     "metadata": {},
     "output_type": "execute_result"
    }
   ],
   "source": [
    "hist_grid.best_params_"
   ]
  },
  {
   "cell_type": "code",
   "execution_count": 64,
   "id": "ebfe9338-c4dc-4933-b2b9-16629bdebbfd",
   "metadata": {},
   "outputs": [],
   "source": [
    "hist_params = {\n",
    "    'learning_rate': [0.05, 0.1, 0.2],\n",
    "    'max_depth': [3, 4, 5]\n",
    "}\n",
    "hist_grid = GridSearchCV(HistGradientBoostingRegressor(), hist_params)"
   ]
  },
  {
   "cell_type": "code",
   "execution_count": 65,
   "id": "87c120bc-8595-4f24-9f4e-b30425c54b31",
   "metadata": {},
   "outputs": [
    {
     "data": {
      "text/plain": [
       "GridSearchCV(estimator=HistGradientBoostingRegressor(),\n",
       "             param_grid={'learning_rate': [0.05, 0.1, 0.2],\n",
       "                         'max_depth': [3, 4, 5]})"
      ]
     },
     "execution_count": 65,
     "metadata": {},
     "output_type": "execute_result"
    }
   ],
   "source": [
    "hist_grid.fit(X, y)"
   ]
  },
  {
   "cell_type": "code",
   "execution_count": 66,
   "id": "643840ff-abad-4f86-9490-2145690a4cad",
   "metadata": {},
   "outputs": [
    {
     "data": {
      "text/plain": [
       "{'learning_rate': 0.05, 'max_depth': 3}"
      ]
     },
     "execution_count": 66,
     "metadata": {},
     "output_type": "execute_result"
    }
   ],
   "source": [
    "hist_grid.best_params_"
   ]
  },
  {
   "cell_type": "code",
   "execution_count": 67,
   "id": "584e5348-b387-4876-a601-cf439f35e6fb",
   "metadata": {},
   "outputs": [],
   "source": [
    "hist_params = {\n",
    "    'learning_rate': [0.01, 0.05, 0.1],\n",
    "    'max_depth': [2, 3, 4]\n",
    "}\n",
    "hist_grid = GridSearchCV(HistGradientBoostingRegressor(), hist_params)"
   ]
  },
  {
   "cell_type": "code",
   "execution_count": 68,
   "id": "d4ce23aa-5ba1-4e61-b1b8-9d276fa74246",
   "metadata": {},
   "outputs": [
    {
     "data": {
      "text/plain": [
       "GridSearchCV(estimator=HistGradientBoostingRegressor(),\n",
       "             param_grid={'learning_rate': [0.01, 0.05, 0.1],\n",
       "                         'max_depth': [2, 3, 4]})"
      ]
     },
     "execution_count": 68,
     "metadata": {},
     "output_type": "execute_result"
    }
   ],
   "source": [
    "hist_grid.fit(X, y)"
   ]
  },
  {
   "cell_type": "code",
   "execution_count": 69,
   "id": "f82de158-558f-4c8b-82b4-107c39c467e6",
   "metadata": {},
   "outputs": [
    {
     "data": {
      "text/plain": [
       "{'learning_rate': 0.1, 'max_depth': 3}"
      ]
     },
     "execution_count": 69,
     "metadata": {},
     "output_type": "execute_result"
    }
   ],
   "source": [
    "hist_grid.best_params_"
   ]
  },
  {
   "cell_type": "code",
   "execution_count": 70,
   "id": "1bb9ffa5-bce6-47ad-a85a-0548dcddefbc",
   "metadata": {},
   "outputs": [],
   "source": [
    "hist_params = {\n",
    "    'learning_rate': [0.01, 0.03, 0.05, 0.07, 0.09, 0.11, 0.13, 0.15, 0.2],\n",
    "    'max_depth': [2, 3, 4]\n",
    "}\n",
    "hist_grid = GridSearchCV(HistGradientBoostingRegressor(), hist_params)"
   ]
  },
  {
   "cell_type": "code",
   "execution_count": 71,
   "id": "40756cbc-660e-4f11-a627-563f207e5d3b",
   "metadata": {},
   "outputs": [
    {
     "data": {
      "text/plain": [
       "GridSearchCV(estimator=HistGradientBoostingRegressor(),\n",
       "             param_grid={'learning_rate': [0.01, 0.03, 0.05, 0.07, 0.09, 0.11,\n",
       "                                           0.13, 0.15, 0.2],\n",
       "                         'max_depth': [2, 3, 4]})"
      ]
     },
     "execution_count": 71,
     "metadata": {},
     "output_type": "execute_result"
    }
   ],
   "source": [
    "hist_grid.fit(X, y)"
   ]
  },
  {
   "cell_type": "code",
   "execution_count": 72,
   "id": "69496d51-d65b-48e3-8b36-2d6634157755",
   "metadata": {},
   "outputs": [
    {
     "data": {
      "text/plain": [
       "{'learning_rate': 0.07, 'max_depth': 3}"
      ]
     },
     "execution_count": 72,
     "metadata": {},
     "output_type": "execute_result"
    }
   ],
   "source": [
    "hist_grid.best_params_"
   ]
  },
  {
   "cell_type": "code",
   "execution_count": 73,
   "id": "cbecc5f7-9978-45a7-8e7c-cab15f0f3c4a",
   "metadata": {},
   "outputs": [],
   "source": [
    "hist_params = {\n",
    "    'learning_rate': [0.05, 0.06, 0.07, 0.08, 0.09, 0.1],\n",
    "    'max_depth': [2, 3, 4],\n",
    "    'l2_regularization': [0, 0.1],\n",
    "    'warm_start': [True, False]\n",
    "}\n",
    "hist_grid = GridSearchCV(HistGradientBoostingRegressor(), hist_params)"
   ]
  },
  {
   "cell_type": "code",
   "execution_count": 74,
   "id": "b020a076-3bce-4354-8e5a-216ca95ee173",
   "metadata": {},
   "outputs": [
    {
     "data": {
      "text/plain": [
       "GridSearchCV(estimator=HistGradientBoostingRegressor(),\n",
       "             param_grid={'l2_regularization': [0, 0.1],\n",
       "                         'learning_rate': [0.05, 0.06, 0.07, 0.08, 0.09, 0.1],\n",
       "                         'max_depth': [2, 3, 4], 'warm_start': [True, False]})"
      ]
     },
     "execution_count": 74,
     "metadata": {},
     "output_type": "execute_result"
    }
   ],
   "source": [
    "hist_grid.fit(X, y)"
   ]
  },
  {
   "cell_type": "code",
   "execution_count": 75,
   "id": "afa1cd11-d8ad-4665-94b5-a54f20b55731",
   "metadata": {},
   "outputs": [
    {
     "data": {
      "text/plain": [
       "{'l2_regularization': 0.1,\n",
       " 'learning_rate': 0.1,\n",
       " 'max_depth': 2,\n",
       " 'warm_start': True}"
      ]
     },
     "execution_count": 75,
     "metadata": {},
     "output_type": "execute_result"
    }
   ],
   "source": [
    "hist_grid.best_params_"
   ]
  },
  {
   "cell_type": "code",
   "execution_count": 76,
   "id": "56f5e7d7-31fc-45ad-8bf1-88d12634dc63",
   "metadata": {},
   "outputs": [],
   "source": [
    "hist_params = {\n",
    "    'learning_rate': [0.07, 0.08, 0.09, 0.1, 0.13, 0.16],\n",
    "    'max_depth': [2, 3, 4],\n",
    "    'l2_regularization': [0, 0.01, 0.1, 0.2],\n",
    "    'warm_start': [True, False]\n",
    "}\n",
    "hist_grid = GridSearchCV(HistGradientBoostingRegressor(), hist_params)"
   ]
  },
  {
   "cell_type": "code",
   "execution_count": 77,
   "id": "8f8818a9-1e27-4d52-b88a-41bb42ae87c3",
   "metadata": {},
   "outputs": [
    {
     "data": {
      "text/plain": [
       "GridSearchCV(estimator=HistGradientBoostingRegressor(),\n",
       "             param_grid={'l2_regularization': [0, 0.01, 0.1, 0.2],\n",
       "                         'learning_rate': [0.07, 0.08, 0.09, 0.1, 0.13, 0.16],\n",
       "                         'max_depth': [2, 3, 4], 'warm_start': [True, False]})"
      ]
     },
     "execution_count": 77,
     "metadata": {},
     "output_type": "execute_result"
    }
   ],
   "source": [
    "hist_grid.fit(X, y)"
   ]
  },
  {
   "cell_type": "code",
   "execution_count": 78,
   "id": "6d5f2055-4c4b-48cc-b88c-9bfc3ab4883f",
   "metadata": {},
   "outputs": [
    {
     "data": {
      "text/plain": [
       "{'l2_regularization': 0.1,\n",
       " 'learning_rate': 0.16,\n",
       " 'max_depth': 2,\n",
       " 'warm_start': False}"
      ]
     },
     "execution_count": 78,
     "metadata": {},
     "output_type": "execute_result"
    }
   ],
   "source": [
    "hist_grid.best_params_"
   ]
  },
  {
   "cell_type": "code",
   "execution_count": 79,
   "id": "fa70e38a-5729-48d9-8c88-ca09e4b33c0b",
   "metadata": {},
   "outputs": [],
   "source": [
    "hist_params = {\n",
    "    'learning_rate': [0.07, 0.1, 0.13, 0.16, 0.19],\n",
    "    'max_depth': [2, 3, 4],\n",
    "    'l2_regularization': [0, 0.05, 0.1, 0.15],\n",
    "    'warm_start': [True, False]\n",
    "}\n",
    "hist_grid = GridSearchCV(HistGradientBoostingRegressor(), hist_params)"
   ]
  },
  {
   "cell_type": "code",
   "execution_count": 80,
   "id": "70d7b972-ca71-4755-b34c-86451d468639",
   "metadata": {},
   "outputs": [
    {
     "data": {
      "text/plain": [
       "GridSearchCV(estimator=HistGradientBoostingRegressor(),\n",
       "             param_grid={'l2_regularization': [0, 0.05, 0.1, 0.15],\n",
       "                         'learning_rate': [0.07, 0.1, 0.13, 0.16, 0.19],\n",
       "                         'max_depth': [2, 3, 4], 'warm_start': [True, False]})"
      ]
     },
     "execution_count": 80,
     "metadata": {},
     "output_type": "execute_result"
    }
   ],
   "source": [
    "hist_grid.fit(X, y)"
   ]
  },
  {
   "cell_type": "code",
   "execution_count": 81,
   "id": "d74f0d58-8abb-4a94-aab5-b5694b7a5e67",
   "metadata": {},
   "outputs": [
    {
     "data": {
      "text/plain": [
       "{'l2_regularization': 0,\n",
       " 'learning_rate': 0.13,\n",
       " 'max_depth': 2,\n",
       " 'warm_start': False}"
      ]
     },
     "execution_count": 81,
     "metadata": {},
     "output_type": "execute_result"
    }
   ],
   "source": [
    "hist_grid.best_params_"
   ]
  },
  {
   "cell_type": "code",
   "execution_count": 82,
   "id": "b01c6365-8fb6-4e77-95b8-8a7966657e17",
   "metadata": {},
   "outputs": [],
   "source": [
    "hist_params = {\n",
    "    'learning_rate': [0.07, 0.1, 0.13, 0.16, 0.19],\n",
    "    'max_depth': [2, 3, 4],\n",
    "    'l2_regularization': [0, 0.05, 0.1, 0.15],\n",
    "    'warm_start': [True, False]\n",
    "}\n",
    "hist_grid = GridSearchCV(HistGradientBoostingRegressor(), hist_params)"
   ]
  },
  {
   "cell_type": "code",
   "execution_count": 83,
   "id": "7d5b8bc3-7075-4562-b2f8-ec2c9c87fdce",
   "metadata": {},
   "outputs": [
    {
     "data": {
      "text/plain": [
       "GridSearchCV(estimator=HistGradientBoostingRegressor(),\n",
       "             param_grid={'l2_regularization': [0, 0.05, 0.1, 0.15],\n",
       "                         'learning_rate': [0.07, 0.1, 0.13, 0.16, 0.19],\n",
       "                         'max_depth': [2, 3, 4], 'warm_start': [True, False]})"
      ]
     },
     "execution_count": 83,
     "metadata": {},
     "output_type": "execute_result"
    }
   ],
   "source": [
    "hist_grid.fit(X, y)"
   ]
  },
  {
   "cell_type": "code",
   "execution_count": 84,
   "id": "b4e30b45-e901-4c38-97f2-ddf2cd1856f4",
   "metadata": {},
   "outputs": [
    {
     "data": {
      "text/plain": [
       "{'l2_regularization': 0,\n",
       " 'learning_rate': 0.16,\n",
       " 'max_depth': 3,\n",
       " 'warm_start': False}"
      ]
     },
     "execution_count": 84,
     "metadata": {},
     "output_type": "execute_result"
    }
   ],
   "source": [
    "hist_grid.best_params_"
   ]
  },
  {
   "cell_type": "code",
   "execution_count": 86,
   "id": "937ec4b1-9568-41a4-a3c8-e091b8c6a2ae",
   "metadata": {},
   "outputs": [
    {
     "data": {
      "text/plain": [
       "0.012287281580221566"
      ]
     },
     "execution_count": 86,
     "metadata": {},
     "output_type": "execute_result"
    }
   ],
   "source": [
    "hist_grid.best_score_"
   ]
  },
  {
   "cell_type": "code",
   "execution_count": 87,
   "id": "e06aa24d-8bf0-491e-bb7f-fbaa9b6bb6b2",
   "metadata": {},
   "outputs": [
    {
     "data": {
      "text/plain": [
       "GridSearchCV(estimator=HistGradientBoostingRegressor(),\n",
       "             param_grid={'l2_regularization': [0, 0.05, 0.1, 0.15],\n",
       "                         'learning_rate': [0.07, 0.1, 0.13, 0.16, 0.19],\n",
       "                         'max_depth': [2, 3, 4], 'warm_start': [True, False]})"
      ]
     },
     "execution_count": 87,
     "metadata": {},
     "output_type": "execute_result"
    }
   ],
   "source": [
    "hist_grid.fit(X, y)"
   ]
  },
  {
   "cell_type": "code",
   "execution_count": 88,
   "id": "85d3f850-e242-434b-9a21-c52f9d496699",
   "metadata": {},
   "outputs": [
    {
     "data": {
      "text/plain": [
       "{'l2_regularization': 0.05,\n",
       " 'learning_rate': 0.07,\n",
       " 'max_depth': 3,\n",
       " 'warm_start': True}"
      ]
     },
     "execution_count": 88,
     "metadata": {},
     "output_type": "execute_result"
    }
   ],
   "source": [
    "hist_grid.best_params_"
   ]
  },
  {
   "cell_type": "code",
   "execution_count": 89,
   "id": "8bb9dac0-258b-46e9-8012-80cb6ad714a9",
   "metadata": {},
   "outputs": [
    {
     "data": {
      "text/plain": [
       "0.012454734936231792"
      ]
     },
     "execution_count": 89,
     "metadata": {},
     "output_type": "execute_result"
    }
   ],
   "source": [
    "hist_grid.best_score_"
   ]
  },
  {
   "cell_type": "code",
   "execution_count": 90,
   "id": "0d8f0e1e-5188-4403-936e-ea6230a50490",
   "metadata": {},
   "outputs": [
    {
     "data": {
      "text/plain": [
       "GridSearchCV(estimator=HistGradientBoostingRegressor(),\n",
       "             param_grid={'l2_regularization': [0, 0.05, 0.1, 0.15],\n",
       "                         'learning_rate': [0.07, 0.1, 0.13, 0.16, 0.19],\n",
       "                         'max_depth': [2, 3, 4], 'warm_start': [True, False]})"
      ]
     },
     "execution_count": 90,
     "metadata": {},
     "output_type": "execute_result"
    }
   ],
   "source": [
    "hist_grid.fit(X, y)"
   ]
  },
  {
   "cell_type": "code",
   "execution_count": 91,
   "id": "da307a2c-b956-4089-a7ad-e04cc21ab3df",
   "metadata": {},
   "outputs": [
    {
     "data": {
      "text/plain": [
       "0.012461230498553789"
      ]
     },
     "execution_count": 91,
     "metadata": {},
     "output_type": "execute_result"
    }
   ],
   "source": [
    "hist_grid.best_score_"
   ]
  },
  {
   "cell_type": "code",
   "execution_count": 92,
   "id": "f6c33503-29cc-46bd-b9a8-7a5a834f682c",
   "metadata": {},
   "outputs": [
    {
     "data": {
      "text/plain": [
       "{'l2_regularization': 0.15,\n",
       " 'learning_rate': 0.19,\n",
       " 'max_depth': 3,\n",
       " 'warm_start': True}"
      ]
     },
     "execution_count": 92,
     "metadata": {},
     "output_type": "execute_result"
    }
   ],
   "source": [
    "hist_grid.best_params_"
   ]
  },
  {
   "cell_type": "code",
   "execution_count": 93,
   "id": "b8df59e5-aacd-40a8-998d-a19629e7b412",
   "metadata": {},
   "outputs": [],
   "source": [
    "hist_params = {\n",
    "    'learning_rate': [0.07, 0.1, 0.13, 0.16, 0.19],\n",
    "    'l2_regularization': [0, 0.05, 0.1, 0.15]\n",
    "}\n",
    "hist_grid = GridSearchCV(HistGradientBoostingRegressor(warm_start = True, max_depth = 3), hist_params)"
   ]
  },
  {
   "cell_type": "code",
   "execution_count": 94,
   "id": "2a595c07-7f87-43be-8600-d2681eee8a86",
   "metadata": {},
   "outputs": [
    {
     "data": {
      "text/plain": [
       "GridSearchCV(estimator=HistGradientBoostingRegressor(max_depth=3,\n",
       "                                                     warm_start=True),\n",
       "             param_grid={'l2_regularization': [0, 0.05, 0.1, 0.15],\n",
       "                         'learning_rate': [0.07, 0.1, 0.13, 0.16, 0.19]})"
      ]
     },
     "execution_count": 94,
     "metadata": {},
     "output_type": "execute_result"
    }
   ],
   "source": [
    "hist_grid.fit(X, y)"
   ]
  },
  {
   "cell_type": "code",
   "execution_count": 95,
   "id": "c0178fbe-7083-447a-bea3-128742e37b9c",
   "metadata": {},
   "outputs": [
    {
     "data": {
      "text/plain": [
       "0.01236255443203873"
      ]
     },
     "execution_count": 95,
     "metadata": {},
     "output_type": "execute_result"
    }
   ],
   "source": [
    "hist_grid.best_score_"
   ]
  },
  {
   "cell_type": "code",
   "execution_count": 96,
   "id": "8464ebee-ea84-42f1-87a1-7c3987986e5b",
   "metadata": {},
   "outputs": [
    {
     "data": {
      "text/plain": [
       "{'l2_regularization': 0.05, 'learning_rate': 0.1}"
      ]
     },
     "execution_count": 96,
     "metadata": {},
     "output_type": "execute_result"
    }
   ],
   "source": [
    "hist_grid.best_params_"
   ]
  },
  {
   "cell_type": "code",
   "execution_count": 97,
   "id": "c9ec1063-02be-4de8-a1da-f8505853c39c",
   "metadata": {},
   "outputs": [
    {
     "data": {
      "text/plain": [
       "GridSearchCV(estimator=HistGradientBoostingRegressor(max_depth=3,\n",
       "                                                     warm_start=True),\n",
       "             param_grid={'l2_regularization': [0, 0.05, 0.1, 0.15],\n",
       "                         'learning_rate': [0.07, 0.1, 0.13, 0.16, 0.19]})"
      ]
     },
     "execution_count": 97,
     "metadata": {},
     "output_type": "execute_result"
    }
   ],
   "source": [
    "hist_grid.fit(X, y)"
   ]
  },
  {
   "cell_type": "code",
   "execution_count": 98,
   "id": "373ad493-a05c-4e11-8fe0-a590dce6428b",
   "metadata": {},
   "outputs": [
    {
     "data": {
      "text/plain": [
       "0.011669615100781239"
      ]
     },
     "execution_count": 98,
     "metadata": {},
     "output_type": "execute_result"
    }
   ],
   "source": [
    "hist_grid.best_score_"
   ]
  },
  {
   "cell_type": "code",
   "execution_count": 99,
   "id": "8fd0fd53-a79d-4649-9aad-b1c8ccffd503",
   "metadata": {},
   "outputs": [
    {
     "data": {
      "text/plain": [
       "{'l2_regularization': 0, 'learning_rate': 0.19}"
      ]
     },
     "execution_count": 99,
     "metadata": {},
     "output_type": "execute_result"
    }
   ],
   "source": [
    "hist_grid.best_params_"
   ]
  },
  {
   "cell_type": "code",
   "execution_count": 100,
   "id": "0171bc93-8622-47dc-9e7a-dc1809a7d191",
   "metadata": {},
   "outputs": [
    {
     "data": {
      "text/plain": [
       "GridSearchCV(estimator=HistGradientBoostingRegressor(max_depth=3,\n",
       "                                                     warm_start=True),\n",
       "             param_grid={'l2_regularization': [0, 0.05, 0.1, 0.15],\n",
       "                         'learning_rate': [0.07, 0.1, 0.13, 0.16, 0.19]})"
      ]
     },
     "execution_count": 100,
     "metadata": {},
     "output_type": "execute_result"
    }
   ],
   "source": [
    "hist_grid.fit(X, y)"
   ]
  },
  {
   "cell_type": "code",
   "execution_count": 101,
   "id": "ca349b4a-87db-4b99-b2cc-2bfba75c4f73",
   "metadata": {},
   "outputs": [
    {
     "data": {
      "text/plain": [
       "0.012157986892290728"
      ]
     },
     "execution_count": 101,
     "metadata": {},
     "output_type": "execute_result"
    }
   ],
   "source": [
    "hist_grid.best_score_"
   ]
  },
  {
   "cell_type": "code",
   "execution_count": 102,
   "id": "4c335c31-d378-4795-8f15-7ceabcde608a",
   "metadata": {},
   "outputs": [
    {
     "data": {
      "text/plain": [
       "{'l2_regularization': 0.05, 'learning_rate': 0.07}"
      ]
     },
     "execution_count": 102,
     "metadata": {},
     "output_type": "execute_result"
    }
   ],
   "source": [
    "hist_grid.best_params_"
   ]
  },
  {
   "cell_type": "code",
   "execution_count": 103,
   "id": "b8db86cb-abb6-4312-9a2e-8e74c192d33d",
   "metadata": {},
   "outputs": [
    {
     "data": {
      "text/plain": [
       "GridSearchCV(estimator=HistGradientBoostingRegressor(max_depth=3,\n",
       "                                                     warm_start=True),\n",
       "             param_grid={'l2_regularization': [0, 0.05, 0.1, 0.15],\n",
       "                         'learning_rate': [0.07, 0.1, 0.13, 0.16, 0.19]})"
      ]
     },
     "execution_count": 103,
     "metadata": {},
     "output_type": "execute_result"
    }
   ],
   "source": [
    "hist_grid.fit(X, y)"
   ]
  },
  {
   "cell_type": "code",
   "execution_count": 104,
   "id": "e6b22787-4650-4f04-afa8-f3329fd50f0c",
   "metadata": {},
   "outputs": [
    {
     "data": {
      "text/plain": [
       "0.012211207416063541"
      ]
     },
     "execution_count": 104,
     "metadata": {},
     "output_type": "execute_result"
    }
   ],
   "source": [
    "hist_grid.best_score_"
   ]
  },
  {
   "cell_type": "code",
   "execution_count": 105,
   "id": "ff7f0538-1445-4b16-8b3f-8527280a3c54",
   "metadata": {},
   "outputs": [
    {
     "data": {
      "text/plain": [
       "{'l2_regularization': 0.1, 'learning_rate': 0.13}"
      ]
     },
     "execution_count": 105,
     "metadata": {},
     "output_type": "execute_result"
    }
   ],
   "source": [
    "hist_grid.best_params_"
   ]
  },
  {
   "cell_type": "code",
   "execution_count": 106,
   "id": "d73cf106-f663-4f59-913f-66496f3a5d6a",
   "metadata": {},
   "outputs": [
    {
     "data": {
      "text/plain": [
       "GridSearchCV(estimator=HistGradientBoostingRegressor(max_depth=3,\n",
       "                                                     warm_start=True),\n",
       "             param_grid={'l2_regularization': [0, 0.05, 0.1, 0.15],\n",
       "                         'learning_rate': [0.07, 0.1, 0.13, 0.16, 0.19]})"
      ]
     },
     "execution_count": 106,
     "metadata": {},
     "output_type": "execute_result"
    }
   ],
   "source": [
    "hist_grid.fit(X, y)"
   ]
  },
  {
   "cell_type": "code",
   "execution_count": 107,
   "id": "1e76e08a-a019-40d0-b801-eb400f4035e4",
   "metadata": {},
   "outputs": [
    {
     "data": {
      "text/plain": [
       "0.011881135477127347"
      ]
     },
     "execution_count": 107,
     "metadata": {},
     "output_type": "execute_result"
    }
   ],
   "source": [
    "hist_grid.best_score_"
   ]
  },
  {
   "cell_type": "code",
   "execution_count": 108,
   "id": "780d4d5f-0350-46af-ad99-5c85b4d9ae45",
   "metadata": {},
   "outputs": [
    {
     "data": {
      "text/plain": [
       "{'l2_regularization': 0, 'learning_rate': 0.13}"
      ]
     },
     "execution_count": 108,
     "metadata": {},
     "output_type": "execute_result"
    }
   ],
   "source": [
    "hist_grid.best_params_"
   ]
  },
  {
   "cell_type": "code",
   "execution_count": 109,
   "id": "8b18825b-569d-4214-9c62-ad59d778ce5f",
   "metadata": {},
   "outputs": [],
   "source": [
    "hist_params = {\n",
    "    'learning_rate': [0.07, 0.10, 0.13, 0.16, 0.19],\n",
    "    'l2_regularization': [0.05, 0.10, 0.15]\n",
    "}\n",
    "hist_grid = GridSearchCV(HistGradientBoostingRegressor(warm_start = True, max_depth = 3), hist_params)"
   ]
  },
  {
   "cell_type": "code",
   "execution_count": 110,
   "id": "2b1b4e74-c808-40fd-8663-a0068abd9002",
   "metadata": {},
   "outputs": [
    {
     "data": {
      "text/plain": [
       "GridSearchCV(estimator=HistGradientBoostingRegressor(max_depth=3,\n",
       "                                                     warm_start=True),\n",
       "             param_grid={'l2_regularization': [0.05, 0.1, 0.15],\n",
       "                         'learning_rate': [0.07, 0.1, 0.13, 0.16, 0.19]})"
      ]
     },
     "execution_count": 110,
     "metadata": {},
     "output_type": "execute_result"
    }
   ],
   "source": [
    "hist_grid.fit(X, y)"
   ]
  },
  {
   "cell_type": "code",
   "execution_count": 111,
   "id": "ada6d36f-38bd-49dc-a445-d31576a263bd",
   "metadata": {},
   "outputs": [
    {
     "data": {
      "text/plain": [
       "0.01205307269692395"
      ]
     },
     "execution_count": 111,
     "metadata": {},
     "output_type": "execute_result"
    }
   ],
   "source": [
    "hist_grid.best_score_"
   ]
  },
  {
   "cell_type": "code",
   "execution_count": 112,
   "id": "4f66cd2b-33f7-496c-a395-46814c8c4354",
   "metadata": {},
   "outputs": [
    {
     "data": {
      "text/plain": [
       "{'l2_regularization': 0.15, 'learning_rate': 0.19}"
      ]
     },
     "execution_count": 112,
     "metadata": {},
     "output_type": "execute_result"
    }
   ],
   "source": [
    "hist_grid.best_params_"
   ]
  },
  {
   "cell_type": "code",
   "execution_count": 113,
   "id": "410ce9fe-82b1-41b3-8f1e-6d528aa16797",
   "metadata": {},
   "outputs": [],
   "source": [
    "hist_params = {\n",
    "    'learning_rate': [0.17, 0.19, 0.21],\n",
    "    'l2_regularization': [0.10, 0.15, 0.18]\n",
    "}\n",
    "hist_grid = GridSearchCV(HistGradientBoostingRegressor(warm_start = True, max_depth = 3), hist_params)"
   ]
  },
  {
   "cell_type": "code",
   "execution_count": 114,
   "id": "2e9f718f-7d51-477f-a58f-c42032f26509",
   "metadata": {},
   "outputs": [
    {
     "data": {
      "text/plain": [
       "GridSearchCV(estimator=HistGradientBoostingRegressor(max_depth=3,\n",
       "                                                     warm_start=True),\n",
       "             param_grid={'l2_regularization': [0.1, 0.15, 0.18],\n",
       "                         'learning_rate': [0.17, 0.19, 0.21]})"
      ]
     },
     "execution_count": 114,
     "metadata": {},
     "output_type": "execute_result"
    }
   ],
   "source": [
    "hist_grid.fit(X, y)"
   ]
  },
  {
   "cell_type": "code",
   "execution_count": 116,
   "id": "5d279054-7c8f-4428-a281-fa1c64d1fdba",
   "metadata": {},
   "outputs": [
    {
     "data": {
      "text/plain": [
       "0.012038341202387604"
      ]
     },
     "execution_count": 116,
     "metadata": {},
     "output_type": "execute_result"
    }
   ],
   "source": [
    "hist_grid.best_score_"
   ]
  },
  {
   "cell_type": "code",
   "execution_count": 117,
   "id": "9e88d534-cab9-43a4-bc0d-9af33b28ff0e",
   "metadata": {},
   "outputs": [
    {
     "data": {
      "text/plain": [
       "{'l2_regularization': 0.18, 'learning_rate': 0.21}"
      ]
     },
     "execution_count": 117,
     "metadata": {},
     "output_type": "execute_result"
    }
   ],
   "source": [
    "hist_grid.best_params_"
   ]
  },
  {
   "cell_type": "code",
   "execution_count": 118,
   "id": "f62a7613-294a-42fb-812c-16178da112ed",
   "metadata": {},
   "outputs": [],
   "source": [
    "hist_params = {\n",
    "    'learning_rate': [0.17, 0.19, 0.21],\n",
    "    'l2_regularization': [0.10, 0.12, 0.15]\n",
    "}\n",
    "hist_grid = GridSearchCV(HistGradientBoostingRegressor(warm_start = True, max_depth = 3), hist_params)"
   ]
  },
  {
   "cell_type": "code",
   "execution_count": 119,
   "id": "19b32917-73a9-46e5-85d0-13f34e172b3e",
   "metadata": {},
   "outputs": [
    {
     "data": {
      "text/plain": [
       "GridSearchCV(estimator=HistGradientBoostingRegressor(max_depth=3,\n",
       "                                                     warm_start=True),\n",
       "             param_grid={'l2_regularization': [0.1, 0.12, 0.15],\n",
       "                         'learning_rate': [0.17, 0.19, 0.21]})"
      ]
     },
     "execution_count": 119,
     "metadata": {},
     "output_type": "execute_result"
    }
   ],
   "source": [
    "hist_grid.fit(X, y)"
   ]
  },
  {
   "cell_type": "code",
   "execution_count": 120,
   "id": "0e04684d-fa7d-49cc-abb1-ec35ff21e84f",
   "metadata": {},
   "outputs": [
    {
     "data": {
      "text/plain": [
       "0.011991269139132088"
      ]
     },
     "execution_count": 120,
     "metadata": {},
     "output_type": "execute_result"
    }
   ],
   "source": [
    "hist_grid.best_score_"
   ]
  },
  {
   "cell_type": "code",
   "execution_count": 121,
   "id": "daaa5916-d175-421e-b2b2-f7da7485e22e",
   "metadata": {},
   "outputs": [
    {
     "data": {
      "text/plain": [
       "{'l2_regularization': 0.1, 'learning_rate': 0.19}"
      ]
     },
     "execution_count": 121,
     "metadata": {},
     "output_type": "execute_result"
    }
   ],
   "source": [
    "hist_grid.best_params_"
   ]
  },
  {
   "cell_type": "code",
   "execution_count": 122,
   "id": "b2930c1b-01e2-42d6-a103-870c75f0e356",
   "metadata": {},
   "outputs": [],
   "source": [
    "hist_params = {\n",
    "    'learning_rate': [0.17, 0.19, 0.21],\n",
    "    'l2_regularization': [0.12, 0.15]\n",
    "}\n",
    "hist_grid = GridSearchCV(HistGradientBoostingRegressor(warm_start = True, max_depth = 3), hist_params)"
   ]
  },
  {
   "cell_type": "code",
   "execution_count": 123,
   "id": "362dcac1-3f54-438c-94f3-95ca6012c1ef",
   "metadata": {},
   "outputs": [
    {
     "data": {
      "text/plain": [
       "GridSearchCV(estimator=HistGradientBoostingRegressor(max_depth=3,\n",
       "                                                     warm_start=True),\n",
       "             param_grid={'l2_regularization': [0.12, 0.15],\n",
       "                         'learning_rate': [0.17, 0.19, 0.21]})"
      ]
     },
     "execution_count": 123,
     "metadata": {},
     "output_type": "execute_result"
    }
   ],
   "source": [
    "hist_grid.fit(X, y)"
   ]
  },
  {
   "cell_type": "code",
   "execution_count": 124,
   "id": "fca60185-5441-4c2b-8c4d-a192d758d5af",
   "metadata": {},
   "outputs": [
    {
     "data": {
      "text/plain": [
       "0.011930019587108154"
      ]
     },
     "execution_count": 124,
     "metadata": {},
     "output_type": "execute_result"
    }
   ],
   "source": [
    "hist_grid.best_score_"
   ]
  },
  {
   "cell_type": "code",
   "execution_count": 125,
   "id": "0df2a8c2-1ca0-4ab2-969e-dafb41fdb99c",
   "metadata": {},
   "outputs": [
    {
     "data": {
      "text/plain": [
       "{'l2_regularization': 0.15, 'learning_rate': 0.19}"
      ]
     },
     "execution_count": 125,
     "metadata": {},
     "output_type": "execute_result"
    }
   ],
   "source": [
    "hist_grid.best_params_"
   ]
  },
  {
   "cell_type": "code",
   "execution_count": 126,
   "id": "146d2a7c-9155-407b-87f2-838a490485d4",
   "metadata": {},
   "outputs": [],
   "source": [
    "hist_params = {\n",
    "    'learning_rate': [0.17, 0.19, 0.21],\n",
    "    'l2_regularization': [0.12, 0.15],\n",
    "    'max_iter': [100, 200]\n",
    "}\n",
    "hist_grid = GridSearchCV(HistGradientBoostingRegressor(warm_start = True, max_depth = 3), hist_params)"
   ]
  },
  {
   "cell_type": "code",
   "execution_count": 127,
   "id": "a1d5f1b4-cd57-4769-904e-e21bb5ec5d4f",
   "metadata": {},
   "outputs": [
    {
     "data": {
      "text/plain": [
       "GridSearchCV(estimator=HistGradientBoostingRegressor(max_depth=3,\n",
       "                                                     warm_start=True),\n",
       "             param_grid={'l2_regularization': [0.12, 0.15],\n",
       "                         'learning_rate': [0.17, 0.19, 0.21],\n",
       "                         'max_iter': [100, 200]})"
      ]
     },
     "execution_count": 127,
     "metadata": {},
     "output_type": "execute_result"
    }
   ],
   "source": [
    "hist_grid.fit(X, y)"
   ]
  },
  {
   "cell_type": "code",
   "execution_count": 128,
   "id": "79b55c4a-9fbc-4232-a8a0-cc531b7646c1",
   "metadata": {},
   "outputs": [
    {
     "data": {
      "text/plain": [
       "0.01178531120347972"
      ]
     },
     "execution_count": 128,
     "metadata": {},
     "output_type": "execute_result"
    }
   ],
   "source": [
    "hist_grid.best_score_"
   ]
  },
  {
   "cell_type": "code",
   "execution_count": 129,
   "id": "7d964fac-110a-498e-bfbb-9640faf7e7da",
   "metadata": {},
   "outputs": [
    {
     "data": {
      "text/plain": [
       "{'l2_regularization': 0.12, 'learning_rate': 0.21, 'max_iter': 100}"
      ]
     },
     "execution_count": 129,
     "metadata": {},
     "output_type": "execute_result"
    }
   ],
   "source": [
    "hist_grid.best_params_"
   ]
  },
  {
   "cell_type": "code",
   "execution_count": 130,
   "id": "fed8f224-3e95-4546-98a0-c22c2eb91d12",
   "metadata": {},
   "outputs": [],
   "source": [
    "hist_params = {\n",
    "    'learning_rate': [0.17, 0.19, 0.21, 0.23, 0.25],\n",
    "    'l2_regularization': [0.12, 0.13, 0.14, 0.15]\n",
    "}\n",
    "hist_grid = GridSearchCV(HistGradientBoostingRegressor(warm_start = True, max_depth = 3), hist_params)"
   ]
  },
  {
   "cell_type": "code",
   "execution_count": 131,
   "id": "abf6d11d-761b-4bcb-b001-e5f0eba00d2a",
   "metadata": {},
   "outputs": [
    {
     "data": {
      "text/plain": [
       "GridSearchCV(estimator=HistGradientBoostingRegressor(max_depth=3,\n",
       "                                                     warm_start=True),\n",
       "             param_grid={'l2_regularization': [0.12, 0.13, 0.14, 0.15],\n",
       "                         'learning_rate': [0.17, 0.19, 0.21, 0.23, 0.25]})"
      ]
     },
     "execution_count": 131,
     "metadata": {},
     "output_type": "execute_result"
    }
   ],
   "source": [
    "hist_grid.fit(X, y)"
   ]
  },
  {
   "cell_type": "code",
   "execution_count": 132,
   "id": "91495d21-2d7d-4404-a2d9-1fa08d8588e2",
   "metadata": {},
   "outputs": [
    {
     "data": {
      "text/plain": [
       "0.01198232757109845"
      ]
     },
     "execution_count": 132,
     "metadata": {},
     "output_type": "execute_result"
    }
   ],
   "source": [
    "hist_grid.best_score_"
   ]
  },
  {
   "cell_type": "code",
   "execution_count": 133,
   "id": "642228e2-f7b7-4911-b141-7d7aa05c5c53",
   "metadata": {},
   "outputs": [
    {
     "data": {
      "text/plain": [
       "{'l2_regularization': 0.13, 'learning_rate': 0.21}"
      ]
     },
     "execution_count": 133,
     "metadata": {},
     "output_type": "execute_result"
    }
   ],
   "source": [
    "hist_grid.best_params_"
   ]
  },
  {
   "cell_type": "code",
   "execution_count": 134,
   "id": "402f9ddd-fc35-42bd-8183-7bd6e3423513",
   "metadata": {},
   "outputs": [
    {
     "data": {
      "text/plain": [
       "GridSearchCV(estimator=HistGradientBoostingRegressor(max_depth=3,\n",
       "                                                     warm_start=True),\n",
       "             param_grid={'l2_regularization': [0.12, 0.13, 0.14, 0.15],\n",
       "                         'learning_rate': [0.17, 0.19, 0.21, 0.23, 0.25]})"
      ]
     },
     "execution_count": 134,
     "metadata": {},
     "output_type": "execute_result"
    }
   ],
   "source": [
    "hist_grid.fit(X, y)"
   ]
  },
  {
   "cell_type": "code",
   "execution_count": 135,
   "id": "da677d6c-74e2-4659-b45d-0ab158796391",
   "metadata": {},
   "outputs": [
    {
     "data": {
      "text/plain": [
       "0.011813697700103454"
      ]
     },
     "execution_count": 135,
     "metadata": {},
     "output_type": "execute_result"
    }
   ],
   "source": [
    "hist_grid.best_score_"
   ]
  },
  {
   "cell_type": "code",
   "execution_count": 136,
   "id": "fa92d612-e342-4a37-a1fa-14d3192dc1f4",
   "metadata": {},
   "outputs": [
    {
     "data": {
      "text/plain": [
       "{'l2_regularization': 0.14, 'learning_rate': 0.17}"
      ]
     },
     "execution_count": 136,
     "metadata": {},
     "output_type": "execute_result"
    }
   ],
   "source": [
    "hist_grid.best_params_"
   ]
  },
  {
   "cell_type": "code",
   "execution_count": null,
   "id": "06c26d8b-ddd1-4049-a7ea-6b00b7b429f3",
   "metadata": {},
   "outputs": [],
   "source": []
  }
 ],
 "metadata": {
  "kernelspec": {
   "display_name": "bootcamp",
   "language": "python",
   "name": "bootcamp"
  },
  "language_info": {
   "codemirror_mode": {
    "name": "ipython",
    "version": 3
   },
   "file_extension": ".py",
   "mimetype": "text/x-python",
   "name": "python",
   "nbconvert_exporter": "python",
   "pygments_lexer": "ipython3",
   "version": "3.9.7"
  }
 },
 "nbformat": 4,
 "nbformat_minor": 5
}
